{
  "cells": [
    {
      "cell_type": "code",
      "execution_count": 1,
      "metadata": {
        "id": "w99x30GORa-E"
      },
      "outputs": [
        {
          "name": "stderr",
          "output_type": "stream",
          "text": [
            "c:\\Users\\jiahe\\AppData\\Local\\Programs\\Python\\Python313\\Lib\\site-packages\\tqdm\\auto.py:21: TqdmWarning: IProgress not found. Please update jupyter and ipywidgets. See https://ipywidgets.readthedocs.io/en/stable/user_install.html\n",
            "  from .autonotebook import tqdm as notebook_tqdm\n"
          ]
        }
      ],
      "source": [
        "import pandas as pd\n",
        "import matplotlib.pyplot as plt\n",
        "import seaborn as sns\n",
        "import numpy as np\n",
        "from sklearn.model_selection import train_test_split\n",
        "from sklearn.metrics import mean_squared_error\n",
        "from sklearn.model_selection import KFold\n",
        "from lightgbm import LGBMRegressor, early_stopping, log_evaluation\n",
        "import warnings\n",
        "import optuna\n",
        "import scipy.stats as st\n",
        "from sklearn.ensemble import RandomForestRegressor\n",
        "\n",
        "warnings.filterwarnings('ignore')"
      ]
    },
    {
      "cell_type": "code",
      "execution_count": 2,
      "metadata": {
        "colab": {
          "base_uri": "https://localhost:8080/",
          "height": 241
        },
        "id": "ETobP6N-R0jX",
        "outputId": "aefd88a7-d6a4-4810-8803-8a8e95f997ab"
      },
      "outputs": [
        {
          "name": "stdout",
          "output_type": "stream",
          "text": [
            "Train shape: (517754, 14)\n",
            "Test shape: (172585, 13)\n"
          ]
        },
        {
          "data": {
            "text/html": [
              "<div>\n",
              "<style scoped>\n",
              "    .dataframe tbody tr th:only-of-type {\n",
              "        vertical-align: middle;\n",
              "    }\n",
              "\n",
              "    .dataframe tbody tr th {\n",
              "        vertical-align: top;\n",
              "    }\n",
              "\n",
              "    .dataframe thead th {\n",
              "        text-align: right;\n",
              "    }\n",
              "</style>\n",
              "<table border=\"1\" class=\"dataframe\">\n",
              "  <thead>\n",
              "    <tr style=\"text-align: right;\">\n",
              "      <th></th>\n",
              "      <th>id</th>\n",
              "      <th>road_type</th>\n",
              "      <th>num_lanes</th>\n",
              "      <th>curvature</th>\n",
              "      <th>speed_limit</th>\n",
              "      <th>lighting</th>\n",
              "      <th>weather</th>\n",
              "      <th>road_signs_present</th>\n",
              "      <th>public_road</th>\n",
              "      <th>time_of_day</th>\n",
              "      <th>holiday</th>\n",
              "      <th>school_season</th>\n",
              "      <th>num_reported_accidents</th>\n",
              "      <th>accident_risk</th>\n",
              "    </tr>\n",
              "  </thead>\n",
              "  <tbody>\n",
              "    <tr>\n",
              "      <th>0</th>\n",
              "      <td>0</td>\n",
              "      <td>urban</td>\n",
              "      <td>2</td>\n",
              "      <td>0.06</td>\n",
              "      <td>35</td>\n",
              "      <td>daylight</td>\n",
              "      <td>rainy</td>\n",
              "      <td>False</td>\n",
              "      <td>True</td>\n",
              "      <td>afternoon</td>\n",
              "      <td>False</td>\n",
              "      <td>True</td>\n",
              "      <td>1</td>\n",
              "      <td>0.13</td>\n",
              "    </tr>\n",
              "    <tr>\n",
              "      <th>1</th>\n",
              "      <td>1</td>\n",
              "      <td>urban</td>\n",
              "      <td>4</td>\n",
              "      <td>0.99</td>\n",
              "      <td>35</td>\n",
              "      <td>daylight</td>\n",
              "      <td>clear</td>\n",
              "      <td>True</td>\n",
              "      <td>False</td>\n",
              "      <td>evening</td>\n",
              "      <td>True</td>\n",
              "      <td>True</td>\n",
              "      <td>0</td>\n",
              "      <td>0.35</td>\n",
              "    </tr>\n",
              "    <tr>\n",
              "      <th>2</th>\n",
              "      <td>2</td>\n",
              "      <td>rural</td>\n",
              "      <td>4</td>\n",
              "      <td>0.63</td>\n",
              "      <td>70</td>\n",
              "      <td>dim</td>\n",
              "      <td>clear</td>\n",
              "      <td>False</td>\n",
              "      <td>True</td>\n",
              "      <td>morning</td>\n",
              "      <td>True</td>\n",
              "      <td>False</td>\n",
              "      <td>2</td>\n",
              "      <td>0.30</td>\n",
              "    </tr>\n",
              "    <tr>\n",
              "      <th>3</th>\n",
              "      <td>3</td>\n",
              "      <td>highway</td>\n",
              "      <td>4</td>\n",
              "      <td>0.07</td>\n",
              "      <td>35</td>\n",
              "      <td>dim</td>\n",
              "      <td>rainy</td>\n",
              "      <td>True</td>\n",
              "      <td>True</td>\n",
              "      <td>morning</td>\n",
              "      <td>False</td>\n",
              "      <td>False</td>\n",
              "      <td>1</td>\n",
              "      <td>0.21</td>\n",
              "    </tr>\n",
              "    <tr>\n",
              "      <th>4</th>\n",
              "      <td>4</td>\n",
              "      <td>rural</td>\n",
              "      <td>1</td>\n",
              "      <td>0.58</td>\n",
              "      <td>60</td>\n",
              "      <td>daylight</td>\n",
              "      <td>foggy</td>\n",
              "      <td>False</td>\n",
              "      <td>False</td>\n",
              "      <td>evening</td>\n",
              "      <td>True</td>\n",
              "      <td>False</td>\n",
              "      <td>1</td>\n",
              "      <td>0.56</td>\n",
              "    </tr>\n",
              "  </tbody>\n",
              "</table>\n",
              "</div>"
            ],
            "text/plain": [
              "   id road_type  num_lanes  curvature  speed_limit  lighting weather  \\\n",
              "0   0     urban          2       0.06           35  daylight   rainy   \n",
              "1   1     urban          4       0.99           35  daylight   clear   \n",
              "2   2     rural          4       0.63           70       dim   clear   \n",
              "3   3   highway          4       0.07           35       dim   rainy   \n",
              "4   4     rural          1       0.58           60  daylight   foggy   \n",
              "\n",
              "   road_signs_present  public_road time_of_day  holiday  school_season  \\\n",
              "0               False         True   afternoon    False           True   \n",
              "1                True        False     evening     True           True   \n",
              "2               False         True     morning     True          False   \n",
              "3                True         True     morning    False          False   \n",
              "4               False        False     evening     True          False   \n",
              "\n",
              "   num_reported_accidents  accident_risk  \n",
              "0                       1           0.13  \n",
              "1                       0           0.35  \n",
              "2                       2           0.30  \n",
              "3                       1           0.21  \n",
              "4                       1           0.56  "
            ]
          },
          "execution_count": 2,
          "metadata": {},
          "output_type": "execute_result"
        }
      ],
      "source": [
        "test = pd.read_csv(r\"C:\\Users\\jiahe\\OneDrive\\Desktop\\kaggle\\test.csv\")\n",
        "train = pd.read_csv(r\"C:\\Users\\jiahe\\OneDrive\\Desktop\\kaggle\\train.csv\")\n",
        "\n",
        "print(\"Train shape:\", train.shape)\n",
        "print(\"Test shape:\", test.shape)\n",
        "train.head()"
      ]
    },
    {
      "cell_type": "code",
      "execution_count": 3,
      "metadata": {
        "colab": {
          "base_uri": "https://localhost:8080/",
          "height": 398
        },
        "id": "TNAxDkyWSUnL",
        "outputId": "38ada3a0-779a-4365-dac7-06a4b63cff26"
      },
      "outputs": [
        {
          "data": {
            "text/plain": [
              "id                    0\n",
              "road_type             0\n",
              "num_lanes             0\n",
              "curvature             0\n",
              "speed_limit           0\n",
              "lighting              0\n",
              "weather               0\n",
              "road_signs_present    0\n",
              "public_road           0\n",
              "time_of_day           0\n",
              "dtype: int64"
            ]
          },
          "execution_count": 3,
          "metadata": {},
          "output_type": "execute_result"
        }
      ],
      "source": [
        "train.isnull().sum().sort_values(ascending=False).head(10)"
      ]
    },
    {
      "cell_type": "code",
      "execution_count": 4,
      "metadata": {},
      "outputs": [],
      "source": [
        "train_cat = train.copy()\n",
        "test_cat = test.copy()\n",
        "\n",
        "cat_cols = ['road_type', 'lighting', 'weather', 'time_of_day']\n",
        "\n",
        "for col in cat_cols:\n",
        "    categories = pd.Categorical(pd.concat([train_cat[col], test_cat[col]], axis=0)).categories\n",
        "    train_cat[col] = pd.Categorical(train_cat[col], categories=categories)\n",
        "    test_cat[col] = pd.Categorical(test_cat[col], categories=categories)"
      ]
    },
    {
      "cell_type": "code",
      "execution_count": 5,
      "metadata": {},
      "outputs": [
        {
          "name": "stdout",
          "output_type": "stream",
          "text": [
            "Target encoding: road_type\n",
            "Target encoding: lighting\n",
            "Target encoding: weather\n",
            "Target encoding: time_of_day\n"
          ]
        }
      ],
      "source": [
        "# List of categorical columns to target encode\n",
        "target_encode_cols = ['road_type', 'lighting', 'weather', 'time_of_day']\n",
        "\n",
        "# Initialize KFold for target encoding\n",
        "kf = KFold(n_splits=5, shuffle=True, random_state=42)\n",
        "encoded_features = pd.DataFrame(index=train.index)\n",
        "\n",
        "for col in target_encode_cols:\n",
        "    print(f\"Target encoding: {col}\")\n",
        "    oof = pd.Series(np.nan, index=train.index)\n",
        "\n",
        "    # Create out-of-fold mean for each category\n",
        "    for train_idx, val_idx in kf.split(train):\n",
        "        means = train.iloc[train_idx].groupby(col)['accident_risk'].mean()\n",
        "        oof.iloc[val_idx] = train.iloc[val_idx][col].astype(str).map(means)\n",
        "\n",
        "\n",
        "    encoded_features[col + '_te'] = oof\n",
        "\n",
        "# Add encoded features to train\n",
        "train = pd.concat([train, encoded_features], axis=1)\n",
        "\n",
        "# Apply same encoding (using full-train mean) to test\n",
        "for col in target_encode_cols:\n",
        "    global_mean = train.groupby(col)['accident_risk'].mean()\n",
        "    test[col + '_te'] = test[col].astype(str).map(global_mean)"
      ]
    },
    {
      "cell_type": "code",
      "execution_count": 6,
      "metadata": {},
      "outputs": [],
      "source": [
        "# =====================================================\n",
        "# === Define baseline analytic function and clipper ===\n",
        "# =====================================================\n",
        "def f_base(X):\n",
        "    \"\"\"Simple analytic approximation of accident risk.\"\"\"\n",
        "    return (\n",
        "        0.3 * X[\"curvature\"]\n",
        "        + 0.2 * (X[\"lighting\"] == \"night\").astype(int)\n",
        "        + 0.1 * (X[\"weather\"] != \"clear\").astype(int)\n",
        "        + 0.2 * (X[\"speed_limit\"] >= 60).astype(int)\n",
        "        + 0.1 * (X[\"num_reported_accidents\"] > 2).astype(int)\n",
        "    )\n",
        "\n",
        "def clip(f, sigma=0.05):\n",
        "    \"\"\"Smoothly clip predictions into [0,1] using truncated normal expectation.\"\"\"\n",
        "    def clip_f(X):\n",
        "        mu = f(X)\n",
        "        a, b = -mu/sigma, (1 - mu)/sigma\n",
        "        Phi_a, Phi_b = st.norm.cdf(a), st.norm.cdf(b)\n",
        "        phi_a, phi_b = st.norm.pdf(a), st.norm.pdf(b)\n",
        "        return mu*(Phi_b - Phi_a) + sigma*(phi_a - phi_b) + 1 - Phi_b\n",
        "    return clip_f\n",
        "\n",
        "# Apply baseline to train and test\n",
        "train[\"y_base\"] = clip(f_base)(train)\n",
        "test[\"y_base\"] = clip(f_base)(test)\n",
        "\n",
        "# Compute residual target\n",
        "train[\"y_resid\"] = train[\"accident_risk\"] - train[\"y_base\"]"
      ]
    },
    {
      "cell_type": "code",
      "execution_count": 7,
      "metadata": {},
      "outputs": [],
      "source": [
        "X = train_cat.drop(columns=['id', 'accident_risk'])\n",
        "y = train['y_resid']\n",
        "kf = KFold(n_splits=5, shuffle=True, random_state=42)"
      ]
    },
    {
      "cell_type": "code",
      "execution_count": 8,
      "metadata": {},
      "outputs": [
        {
          "name": "stdout",
          "output_type": "stream",
          "text": [
            "Fold 1\n",
            "[LightGBM] [Info] Auto-choosing row-wise multi-threading, the overhead of testing was 0.003884 seconds.\n",
            "You can set `force_row_wise=true` to remove the overhead.\n",
            "And if memory is not enough, you can set `force_col_wise=true`.\n",
            "[LightGBM] [Info] Total Bins 170\n",
            "[LightGBM] [Info] Number of data points in the train set: 414203, number of used features: 12\n",
            "[LightGBM] [Info] Start training from score -0.000177\n",
            "Training until validation scores don't improve for 100 rounds\n",
            "Did not meet early stopping. Best iteration is:\n",
            "[1000]\tvalid_0's rmse: 0.0562943\tvalid_0's l2: 0.00316905\n",
            "Fold 2\n",
            "[LightGBM] [Info] Auto-choosing row-wise multi-threading, the overhead of testing was 0.004519 seconds.\n",
            "You can set `force_row_wise=true` to remove the overhead.\n",
            "And if memory is not enough, you can set `force_col_wise=true`.\n",
            "[LightGBM] [Info] Total Bins 170\n",
            "[LightGBM] [Info] Number of data points in the train set: 414203, number of used features: 12\n",
            "[LightGBM] [Info] Start training from score -0.000280\n",
            "Training until validation scores don't improve for 100 rounds\n",
            "Did not meet early stopping. Best iteration is:\n",
            "[1000]\tvalid_0's rmse: 0.056169\tvalid_0's l2: 0.00315496\n",
            "Fold 3\n",
            "[LightGBM] [Info] Auto-choosing row-wise multi-threading, the overhead of testing was 0.004145 seconds.\n",
            "You can set `force_row_wise=true` to remove the overhead.\n",
            "And if memory is not enough, you can set `force_col_wise=true`.\n",
            "[LightGBM] [Info] Total Bins 176\n",
            "[LightGBM] [Info] Number of data points in the train set: 414203, number of used features: 12\n",
            "[LightGBM] [Info] Start training from score -0.000147\n",
            "Training until validation scores don't improve for 100 rounds\n",
            "Did not meet early stopping. Best iteration is:\n",
            "[978]\tvalid_0's rmse: 0.0561706\tvalid_0's l2: 0.00315513\n",
            "Fold 4\n",
            "[LightGBM] [Info] Auto-choosing row-wise multi-threading, the overhead of testing was 0.004195 seconds.\n",
            "You can set `force_row_wise=true` to remove the overhead.\n",
            "And if memory is not enough, you can set `force_col_wise=true`.\n",
            "[LightGBM] [Info] Total Bins 178\n",
            "[LightGBM] [Info] Number of data points in the train set: 414203, number of used features: 12\n",
            "[LightGBM] [Info] Start training from score -0.000169\n",
            "Training until validation scores don't improve for 100 rounds\n",
            "Did not meet early stopping. Best iteration is:\n",
            "[1000]\tvalid_0's rmse: 0.0560317\tvalid_0's l2: 0.00313955\n",
            "Fold 5\n",
            "[LightGBM] [Info] Auto-choosing row-wise multi-threading, the overhead of testing was 0.004338 seconds.\n",
            "You can set `force_row_wise=true` to remove the overhead.\n",
            "And if memory is not enough, you can set `force_col_wise=true`.\n",
            "[LightGBM] [Info] Total Bins 173\n",
            "[LightGBM] [Info] Number of data points in the train set: 414204, number of used features: 12\n",
            "[LightGBM] [Info] Start training from score -0.000219\n",
            "Training until validation scores don't improve for 100 rounds\n",
            "Did not meet early stopping. Best iteration is:\n",
            "[999]\tvalid_0's rmse: 0.0559621\tvalid_0's l2: 0.00313175\n",
            "✅ Selected 12 / 12 features after multi-fold averaging.\n"
          ]
        }
      ],
      "source": [
        "importances = pd.DataFrame()\n",
        "for fold, (train_idx, val_idx) in enumerate(kf.split(X)):\n",
        "    print(f\"Fold {fold+1}\")\n",
        "    X_train, X_val = X.iloc[train_idx], X.iloc[val_idx]\n",
        "    y_train, y_val = y.iloc[train_idx], y.iloc[val_idx]\n",
        "\n",
        "    model_fs = LGBMRegressor(\n",
        "        n_estimators=1000,\n",
        "        learning_rate=0.03,\n",
        "        subsample=0.8,\n",
        "        colsample_bytree=0.8,\n",
        "        random_state=42,\n",
        "        n_jobs=-1\n",
        "    )\n",
        "\n",
        "    model_fs.fit(\n",
        "        X_train, y_train,\n",
        "        eval_set=[(X_val, y_val)],\n",
        "        eval_metric='rmse',\n",
        "        callbacks=[early_stopping(100)]\n",
        "    )\n",
        "\n",
        "    fold_importance = pd.DataFrame({\n",
        "        'feature': X.columns,\n",
        "        'gain': model_fs.booster_.feature_importance(importance_type='gain'),\n",
        "        'fold': fold + 1\n",
        "    })\n",
        "    importances = pd.concat([importances, fold_importance], axis=0)\n",
        "\n",
        "# Compute feature importance\n",
        "importance_df = (\n",
        "    importances.groupby('feature')['gain']\n",
        "    .mean()\n",
        "    .sort_values(ascending=False)\n",
        "    .reset_index()\n",
        ")\n",
        "\n",
        "# Filter weak features\n",
        "threshold = importance_df['gain'].median() * 0.1\n",
        "selected_features = importance_df.query('gain > @threshold')['feature'].tolist()\n",
        "\n",
        "print(f\"✅ Selected {len(selected_features)} / {len(X.columns)} features after multi-fold averaging.\")\n",
        "\n",
        "# Reduce the dataset to selected features\n",
        "X = X[selected_features]\n",
        "test_X = test_cat[selected_features]"
      ]
    },
    {
      "cell_type": "code",
      "execution_count": 9,
      "metadata": {},
      "outputs": [
        {
          "name": "stderr",
          "output_type": "stream",
          "text": [
            "[I 2025-10-28 16:22:33,338] A new study created in memory with name: no-name-87932734-9d99-479e-8b68-123d8632d6d0\n",
            "Best trial: 0. Best value: 0.0561111:   2%|▎         | 1/40 [03:33<2:18:53, 213.68s/it]"
          ]
        },
        {
          "name": "stdout",
          "output_type": "stream",
          "text": [
            "[I 2025-10-28 16:26:07,014] Trial 0 finished with value: 0.05611105532733551 and parameters: {'learning_rate': 0.011227845563292689, 'num_leaves': 160, 'max_depth': 5, 'subsample': 0.6148754631475817, 'colsample_bytree': 0.8157015353520217, 'reg_alpha': 0.5036573683373882, 'reg_lambda': 0.8200201144051968, 'min_child_samples': 136}. Best is trial 0 with value: 0.05611105532733551.\n"
          ]
        },
        {
          "name": "stderr",
          "output_type": "stream",
          "text": [
            "Best trial: 1. Best value: 0.0560824:   5%|▌         | 2/40 [10:01<3:20:15, 316.20s/it]"
          ]
        },
        {
          "name": "stdout",
          "output_type": "stream",
          "text": [
            "[I 2025-10-28 16:32:34,971] Trial 1 finished with value: 0.056082405579342395 and parameters: {'learning_rate': 0.007800643091268933, 'num_leaves': 110, 'max_depth': 9, 'subsample': 0.6309077041052501, 'colsample_bytree': 0.6991487722337137, 'reg_alpha': 0.38476491312188366, 'reg_lambda': 0.7350972883910267, 'min_child_samples': 95}. Best is trial 1 with value: 0.056082405579342395.\n"
          ]
        },
        {
          "name": "stderr",
          "output_type": "stream",
          "text": [
            "Best trial: 1. Best value: 0.0560824:   8%|▊         | 3/40 [13:18<2:41:25, 261.77s/it]"
          ]
        },
        {
          "name": "stdout",
          "output_type": "stream",
          "text": [
            "[I 2025-10-28 16:35:51,978] Trial 2 finished with value: 0.05628613217125526 and parameters: {'learning_rate': 0.0069525602131742525, 'num_leaves': 150, 'max_depth': 4, 'subsample': 0.8722168492539175, 'colsample_bytree': 0.7060703724297954, 'reg_alpha': 0.19145654647888644, 'reg_lambda': 0.14157171305084415, 'min_child_samples': 183}. Best is trial 1 with value: 0.056082405579342395.\n"
          ]
        },
        {
          "name": "stderr",
          "output_type": "stream",
          "text": [
            "Best trial: 1. Best value: 0.0560824:  10%|█         | 4/40 [16:31<2:20:43, 234.55s/it]"
          ]
        },
        {
          "name": "stdout",
          "output_type": "stream",
          "text": [
            "[I 2025-10-28 16:39:04,793] Trial 3 finished with value: 0.05623694405589531 and parameters: {'learning_rate': 0.008877659358457295, 'num_leaves': 57, 'max_depth': 4, 'subsample': 0.6726010774556109, 'colsample_bytree': 0.626819192738186, 'reg_alpha': 0.1625601914654482, 'reg_lambda': 0.2658756523739906, 'min_child_samples': 43}. Best is trial 1 with value: 0.056082405579342395.\n"
          ]
        },
        {
          "name": "stderr",
          "output_type": "stream",
          "text": [
            "Best trial: 1. Best value: 0.0560824:  12%|█▎        | 5/40 [22:32<2:43:31, 280.33s/it]"
          ]
        },
        {
          "name": "stdout",
          "output_type": "stream",
          "text": [
            "[I 2025-10-28 16:45:06,289] Trial 4 finished with value: 0.05628310072903429 and parameters: {'learning_rate': 0.01763743225501276, 'num_leaves': 110, 'max_depth': 9, 'subsample': 0.7484038795390853, 'colsample_bytree': 0.7797848378926759, 'reg_alpha': 0.13446162681014684, 'reg_lambda': 0.3093872133400102, 'min_child_samples': 164}. Best is trial 1 with value: 0.056082405579342395.\n"
          ]
        },
        {
          "name": "stderr",
          "output_type": "stream",
          "text": [
            "Best trial: 1. Best value: 0.0560824:  15%|█▌        | 6/40 [22:33<1:44:52, 185.09s/it]"
          ]
        },
        {
          "name": "stdout",
          "output_type": "stream",
          "text": [
            "[I 2025-10-28 16:45:06,497] Trial 5 pruned. Trial was pruned at iteration 1.\n"
          ]
        },
        {
          "name": "stderr",
          "output_type": "stream",
          "text": [
            "Best trial: 1. Best value: 0.0560824:  18%|█▊        | 7/40 [22:33<1:08:33, 124.65s/it]"
          ]
        },
        {
          "name": "stdout",
          "output_type": "stream",
          "text": [
            "[I 2025-10-28 16:45:06,717] Trial 6 pruned. Trial was pruned at iteration 0.\n"
          ]
        },
        {
          "name": "stderr",
          "output_type": "stream",
          "text": [
            "Best trial: 7. Best value: 0.0560793:  20%|██        | 8/40 [25:39<1:16:57, 144.30s/it]"
          ]
        },
        {
          "name": "stdout",
          "output_type": "stream",
          "text": [
            "[I 2025-10-28 16:48:13,097] Trial 7 finished with value: 0.056079305093674 and parameters: {'learning_rate': 0.021873246968358608, 'num_leaves': 194, 'max_depth': 6, 'subsample': 0.6373587629306415, 'colsample_bytree': 0.7030328686526451, 'reg_alpha': 0.7417084898469293, 'reg_lambda': 0.5354200095353459, 'min_child_samples': 54}. Best is trial 7 with value: 0.056079305093674.\n"
          ]
        },
        {
          "name": "stderr",
          "output_type": "stream",
          "text": [
            "Best trial: 7. Best value: 0.0560793:  22%|██▎       | 9/40 [31:16<1:45:37, 204.43s/it]"
          ]
        },
        {
          "name": "stdout",
          "output_type": "stream",
          "text": [
            "[I 2025-10-28 16:53:49,741] Trial 8 finished with value: 0.0562272234181224 and parameters: {'learning_rate': 0.03342885172466514, 'num_leaves': 157, 'max_depth': 6, 'subsample': 0.8339671525340715, 'colsample_bytree': 0.760361617485468, 'reg_alpha': 0.08816395173626923, 'reg_lambda': 0.8533672828240976, 'min_child_samples': 199}. Best is trial 7 with value: 0.056079305093674.\n"
          ]
        },
        {
          "name": "stderr",
          "output_type": "stream",
          "text": [
            "Best trial: 7. Best value: 0.0560793:  25%|██▌       | 10/40 [31:16<1:10:41, 141.39s/it]"
          ]
        },
        {
          "name": "stdout",
          "output_type": "stream",
          "text": [
            "[I 2025-10-28 16:53:49,956] Trial 9 pruned. Trial was pruned at iteration 1.\n"
          ]
        },
        {
          "name": "stderr",
          "output_type": "stream",
          "text": [
            "Best trial: 10. Best value: 0.0560763:  28%|██▊       | 11/40 [33:34<1:07:46, 140.23s/it]"
          ]
        },
        {
          "name": "stdout",
          "output_type": "stream",
          "text": [
            "[I 2025-10-28 16:56:07,556] Trial 10 finished with value: 0.05607631946058052 and parameters: {'learning_rate': 0.04897534145547061, 'num_leaves': 199, 'max_depth': 6, 'subsample': 0.7120036561958804, 'colsample_bytree': 0.894565042418416, 'reg_alpha': 0.8638830691549946, 'reg_lambda': 0.5505076357187897, 'min_child_samples': 74}. Best is trial 10 with value: 0.05607631946058052.\n"
          ]
        },
        {
          "name": "stderr",
          "output_type": "stream",
          "text": [
            "Best trial: 10. Best value: 0.0560763:  30%|███       | 12/40 [35:53<1:05:16, 139.88s/it]"
          ]
        },
        {
          "name": "stdout",
          "output_type": "stream",
          "text": [
            "[I 2025-10-28 16:58:26,634] Trial 11 finished with value: 0.05608256614946387 and parameters: {'learning_rate': 0.04995538153235129, 'num_leaves': 196, 'max_depth': 6, 'subsample': 0.6991760923188756, 'colsample_bytree': 0.8932425963584673, 'reg_alpha': 0.8157131594526199, 'reg_lambda': 0.5758462976810751, 'min_child_samples': 70}. Best is trial 10 with value: 0.05607631946058052.\n"
          ]
        },
        {
          "name": "stderr",
          "output_type": "stream",
          "text": [
            "Best trial: 12. Best value: 0.0560751:  32%|███▎      | 13/40 [38:35<1:06:01, 146.74s/it]"
          ]
        },
        {
          "name": "stdout",
          "output_type": "stream",
          "text": [
            "[I 2025-10-28 17:01:09,167] Trial 12 finished with value: 0.05607513772281035 and parameters: {'learning_rate': 0.02622880525147948, 'num_leaves': 200, 'max_depth': 6, 'subsample': 0.7156247258141631, 'colsample_bytree': 0.8751424954541013, 'reg_alpha': 0.7042540288450213, 'reg_lambda': 0.5236352097848129, 'min_child_samples': 70}. Best is trial 12 with value: 0.05607513772281035.\n"
          ]
        },
        {
          "name": "stderr",
          "output_type": "stream",
          "text": [
            "Best trial: 13. Best value: 0.0560706:  35%|███▌      | 14/40 [41:08<1:04:19, 148.46s/it]"
          ]
        },
        {
          "name": "stdout",
          "output_type": "stream",
          "text": [
            "[I 2025-10-28 17:03:41,604] Trial 13 finished with value: 0.0560706031281051 and parameters: {'learning_rate': 0.049914586388583114, 'num_leaves': 183, 'max_depth': 7, 'subsample': 0.7488295003652871, 'colsample_bytree': 0.8837256300228906, 'reg_alpha': 0.6631298102231494, 'reg_lambda': 0.41618551441600476, 'min_child_samples': 83}. Best is trial 13 with value: 0.0560706031281051.\n"
          ]
        },
        {
          "name": "stderr",
          "output_type": "stream",
          "text": [
            "Best trial: 13. Best value: 0.0560706:  38%|███▊      | 15/40 [41:20<44:43, 107.34s/it]  "
          ]
        },
        {
          "name": "stdout",
          "output_type": "stream",
          "text": [
            "[I 2025-10-28 17:03:53,646] Trial 14 pruned. Trial was pruned at iteration 3315.\n"
          ]
        },
        {
          "name": "stderr",
          "output_type": "stream",
          "text": [
            "Best trial: 15. Best value: 0.0560699:  40%|████      | 16/40 [44:03<49:36, 124.02s/it]"
          ]
        },
        {
          "name": "stdout",
          "output_type": "stream",
          "text": [
            "[I 2025-10-28 17:06:36,413] Trial 15 finished with value: 0.05606987750438096 and parameters: {'learning_rate': 0.03464068597164972, 'num_leaves': 180, 'max_depth': 7, 'subsample': 0.7797064488266761, 'colsample_bytree': 0.8482114200300792, 'reg_alpha': 0.6399945734636989, 'reg_lambda': 0.697191602993814, 'min_child_samples': 86}. Best is trial 15 with value: 0.05606987750438096.\n"
          ]
        },
        {
          "name": "stderr",
          "output_type": "stream",
          "text": [
            "Best trial: 15. Best value: 0.0560699:  42%|████▎     | 17/40 [47:00<53:39, 139.96s/it]"
          ]
        },
        {
          "name": "stdout",
          "output_type": "stream",
          "text": [
            "[I 2025-10-28 17:09:33,440] Trial 16 finished with value: 0.05608689593845763 and parameters: {'learning_rate': 0.03775632259847021, 'num_leaves': 178, 'max_depth': 8, 'subsample': 0.8284317228152213, 'colsample_bytree': 0.8462083912748211, 'reg_alpha': 0.5939918591144427, 'reg_lambda': 0.9882305115968197, 'min_child_samples': 124}. Best is trial 15 with value: 0.05606987750438096.\n"
          ]
        },
        {
          "name": "stderr",
          "output_type": "stream",
          "text": [
            "Best trial: 15. Best value: 0.0560699:  45%|████▌     | 18/40 [49:51<54:44, 149.28s/it]"
          ]
        },
        {
          "name": "stdout",
          "output_type": "stream",
          "text": [
            "[I 2025-10-28 17:12:24,419] Trial 17 finished with value: 0.056085435754402044 and parameters: {'learning_rate': 0.03909883115170538, 'num_leaves': 138, 'max_depth': 8, 'subsample': 0.7806309193394677, 'colsample_bytree': 0.8049153036188361, 'reg_alpha': 0.5479603958603676, 'reg_lambda': 0.0067481493751122, 'min_child_samples': 89}. Best is trial 15 with value: 0.05606987750438096.\n"
          ]
        },
        {
          "name": "stderr",
          "output_type": "stream",
          "text": [
            "Best trial: 15. Best value: 0.0560699:  48%|████▊     | 19/40 [49:51<36:34, 104.51s/it]"
          ]
        },
        {
          "name": "stdout",
          "output_type": "stream",
          "text": [
            "[I 2025-10-28 17:12:24,631] Trial 18 pruned. Trial was pruned at iteration 0.\n"
          ]
        },
        {
          "name": "stderr",
          "output_type": "stream",
          "text": [
            "Best trial: 15. Best value: 0.0560699:  50%|█████     | 20/40 [49:51<24:23, 73.20s/it] "
          ]
        },
        {
          "name": "stdout",
          "output_type": "stream",
          "text": [
            "[I 2025-10-28 17:12:24,848] Trial 19 pruned. Trial was pruned at iteration 0.\n"
          ]
        },
        {
          "name": "stderr",
          "output_type": "stream",
          "text": [
            "Best trial: 15. Best value: 0.0560699:  52%|█████▎    | 21/40 [52:45<32:44, 103.41s/it]"
          ]
        },
        {
          "name": "stdout",
          "output_type": "stream",
          "text": [
            "[I 2025-10-28 17:15:18,688] Trial 20 finished with value: 0.05624854556282235 and parameters: {'learning_rate': 0.041956555712825666, 'num_leaves': 184, 'max_depth': 9, 'subsample': 0.8284047575862967, 'colsample_bytree': 0.8046259820406203, 'reg_alpha': 0.28144885249081353, 'reg_lambda': 0.663823646071847, 'min_child_samples': 21}. Best is trial 15 with value: 0.05606987750438096.\n"
          ]
        },
        {
          "name": "stderr",
          "output_type": "stream",
          "text": [
            "Best trial: 15. Best value: 0.0560699:  55%|█████▌    | 22/40 [52:45<21:43, 72.44s/it] "
          ]
        },
        {
          "name": "stdout",
          "output_type": "stream",
          "text": [
            "[I 2025-10-28 17:15:18,902] Trial 21 pruned. Trial was pruned at iteration 0.\n"
          ]
        },
        {
          "name": "stderr",
          "output_type": "stream",
          "text": [
            "Best trial: 15. Best value: 0.0560699:  57%|█████▊    | 23/40 [52:45<14:23, 50.77s/it]"
          ]
        },
        {
          "name": "stdout",
          "output_type": "stream",
          "text": [
            "[I 2025-10-28 17:15:19,122] Trial 22 pruned. Trial was pruned at iteration 0.\n"
          ]
        },
        {
          "name": "stderr",
          "output_type": "stream",
          "text": [
            "Best trial: 15. Best value: 0.0560699:  60%|██████    | 24/40 [52:46<09:29, 35.61s/it]"
          ]
        },
        {
          "name": "stdout",
          "output_type": "stream",
          "text": [
            "[I 2025-10-28 17:15:19,364] Trial 23 pruned. Trial was pruned at iteration 0.\n"
          ]
        },
        {
          "name": "stderr",
          "output_type": "stream",
          "text": [
            "Best trial: 15. Best value: 0.0560699:  62%|██████▎   | 25/40 [56:15<21:54, 87.66s/it]"
          ]
        },
        {
          "name": "stdout",
          "output_type": "stream",
          "text": [
            "[I 2025-10-28 17:18:48,470] Trial 24 finished with value: 0.05610118612026278 and parameters: {'learning_rate': 0.042389737868297236, 'num_leaves': 199, 'max_depth': 8, 'subsample': 0.7666059139693436, 'colsample_bytree': 0.8203284636809091, 'reg_alpha': 0.47052406993365614, 'reg_lambda': 0.7868876184738549, 'min_child_samples': 89}. Best is trial 15 with value: 0.05606987750438096.\n"
          ]
        },
        {
          "name": "stderr",
          "output_type": "stream",
          "text": [
            "Best trial: 15. Best value: 0.0560699:  65%|██████▌   | 26/40 [56:15<14:19, 61.43s/it]"
          ]
        },
        {
          "name": "stdout",
          "output_type": "stream",
          "text": [
            "[I 2025-10-28 17:18:48,690] Trial 25 pruned. Trial was pruned at iteration 0.\n"
          ]
        },
        {
          "name": "stderr",
          "output_type": "stream",
          "text": [
            "Best trial: 15. Best value: 0.0560699:  68%|██████▊   | 27/40 [56:15<09:19, 43.07s/it]"
          ]
        },
        {
          "name": "stdout",
          "output_type": "stream",
          "text": [
            "[I 2025-10-28 17:18:48,914] Trial 26 pruned. Trial was pruned at iteration 0.\n"
          ]
        },
        {
          "name": "stderr",
          "output_type": "stream",
          "text": [
            "Best trial: 15. Best value: 0.0560699:  70%|███████   | 28/40 [56:15<06:02, 30.22s/it]"
          ]
        },
        {
          "name": "stdout",
          "output_type": "stream",
          "text": [
            "[I 2025-10-28 17:18:49,160] Trial 27 pruned. Trial was pruned at iteration 0.\n"
          ]
        },
        {
          "name": "stderr",
          "output_type": "stream",
          "text": [
            "Best trial: 15. Best value: 0.0560699:  72%|███████▎  | 29/40 [56:16<03:53, 21.23s/it]"
          ]
        },
        {
          "name": "stdout",
          "output_type": "stream",
          "text": [
            "[I 2025-10-28 17:18:49,406] Trial 28 pruned. Trial was pruned at iteration 0.\n"
          ]
        },
        {
          "name": "stderr",
          "output_type": "stream",
          "text": [
            "Best trial: 15. Best value: 0.0560699:  75%|███████▌  | 30/40 [59:55<13:27, 80.72s/it]"
          ]
        },
        {
          "name": "stdout",
          "output_type": "stream",
          "text": [
            "[I 2025-10-28 17:22:28,935] Trial 29 finished with value: 0.05610731531770012 and parameters: {'learning_rate': 0.044251547420648005, 'num_leaves': 163, 'max_depth': 8, 'subsample': 0.8124394733280733, 'colsample_bytree': 0.8206011238608584, 'reg_alpha': 0.453867347830229, 'reg_lambda': 0.6280675007602834, 'min_child_samples': 81}. Best is trial 15 with value: 0.05606987750438096.\n"
          ]
        },
        {
          "name": "stderr",
          "output_type": "stream",
          "text": [
            "Best trial: 15. Best value: 0.0560699:  78%|███████▊  | 31/40 [59:55<08:29, 56.57s/it]"
          ]
        },
        {
          "name": "stdout",
          "output_type": "stream",
          "text": [
            "[I 2025-10-28 17:22:29,151] Trial 30 pruned. Trial was pruned at iteration 0.\n"
          ]
        },
        {
          "name": "stderr",
          "output_type": "stream",
          "text": [
            "Best trial: 15. Best value: 0.0560699:  80%|████████  | 32/40 [59:56<05:18, 39.81s/it]"
          ]
        },
        {
          "name": "stdout",
          "output_type": "stream",
          "text": [
            "[I 2025-10-28 17:22:29,866] Trial 31 pruned. Trial was pruned at iteration 92.\n"
          ]
        },
        {
          "name": "stderr",
          "output_type": "stream",
          "text": [
            "Best trial: 15. Best value: 0.0560699:  82%|████████▎ | 33/40 [59:57<03:16, 28.07s/it]"
          ]
        },
        {
          "name": "stdout",
          "output_type": "stream",
          "text": [
            "[I 2025-10-28 17:22:30,555] Trial 32 pruned. Trial was pruned at iteration 70.\n"
          ]
        },
        {
          "name": "stderr",
          "output_type": "stream",
          "text": [
            "Best trial: 33. Best value: 0.0560662:  85%|████████▌ | 34/40 [1:02:18<06:12, 62.10s/it]"
          ]
        },
        {
          "name": "stdout",
          "output_type": "stream",
          "text": [
            "[I 2025-10-28 17:24:52,041] Trial 33 finished with value: 0.056066197954237916 and parameters: {'learning_rate': 0.0495012872776267, 'num_leaves': 200, 'max_depth': 7, 'subsample': 0.6631789958203984, 'colsample_bytree': 0.8944650712936875, 'reg_alpha': 0.7832768442356759, 'reg_lambda': 0.7373495662419753, 'min_child_samples': 95}. Best is trial 33 with value: 0.056066197954237916.\n"
          ]
        },
        {
          "name": "stderr",
          "output_type": "stream",
          "text": [
            "Best trial: 33. Best value: 0.0560662:  88%|████████▊ | 35/40 [1:02:18<03:37, 43.53s/it]"
          ]
        },
        {
          "name": "stdout",
          "output_type": "stream",
          "text": [
            "[I 2025-10-28 17:24:52,259] Trial 34 pruned. Trial was pruned at iteration 0.\n"
          ]
        },
        {
          "name": "stderr",
          "output_type": "stream",
          "text": [
            "Best trial: 33. Best value: 0.0560662:  90%|█████████ | 36/40 [1:02:19<02:02, 30.54s/it]"
          ]
        },
        {
          "name": "stdout",
          "output_type": "stream",
          "text": [
            "[I 2025-10-28 17:24:52,488] Trial 35 pruned. Trial was pruned at iteration 0.\n"
          ]
        },
        {
          "name": "stderr",
          "output_type": "stream",
          "text": [
            "Best trial: 33. Best value: 0.0560662:  92%|█████████▎| 37/40 [1:02:19<01:04, 21.45s/it]"
          ]
        },
        {
          "name": "stdout",
          "output_type": "stream",
          "text": [
            "[I 2025-10-28 17:24:52,727] Trial 36 pruned. Trial was pruned at iteration 0.\n"
          ]
        },
        {
          "name": "stderr",
          "output_type": "stream",
          "text": [
            "Best trial: 33. Best value: 0.0560662:  95%|█████████▌| 38/40 [1:02:19<00:30, 15.09s/it]"
          ]
        },
        {
          "name": "stdout",
          "output_type": "stream",
          "text": [
            "[I 2025-10-28 17:24:52,971] Trial 37 pruned. Trial was pruned at iteration 0.\n"
          ]
        },
        {
          "name": "stderr",
          "output_type": "stream",
          "text": [
            "Best trial: 33. Best value: 0.0560662:  98%|█████████▊| 39/40 [1:02:19<00:10, 10.63s/it]"
          ]
        },
        {
          "name": "stdout",
          "output_type": "stream",
          "text": [
            "[I 2025-10-28 17:24:53,211] Trial 38 pruned. Trial was pruned at iteration 1.\n"
          ]
        },
        {
          "name": "stderr",
          "output_type": "stream",
          "text": [
            "Best trial: 33. Best value: 0.0560662: 100%|██████████| 40/40 [1:04:53<00:00, 97.34s/it]"
          ]
        },
        {
          "name": "stdout",
          "output_type": "stream",
          "text": [
            "[I 2025-10-28 17:27:27,040] Trial 39 finished with value: 0.056071524739663495 and parameters: {'learning_rate': 0.047957761142369146, 'num_leaves': 95, 'max_depth': 7, 'subsample': 0.647913706926178, 'colsample_bytree': 0.8851791951504548, 'reg_alpha': 0.5852564294330658, 'reg_lambda': 0.19413428397755528, 'min_child_samples': 49}. Best is trial 33 with value: 0.056066197954237916.\n",
            "Best RMSE: 0.056066197954237916\n",
            "Best Params: {'learning_rate': 0.0495012872776267, 'num_leaves': 200, 'max_depth': 7, 'subsample': 0.6631789958203984, 'colsample_bytree': 0.8944650712936875, 'reg_alpha': 0.7832768442356759, 'reg_lambda': 0.7373495662419753, 'min_child_samples': 95}\n"
          ]
        },
        {
          "name": "stderr",
          "output_type": "stream",
          "text": [
            "\n"
          ]
        }
      ],
      "source": [
        "def objective(trial):\n",
        "    params = {\n",
        "        \"n_estimators\": 8000,\n",
        "        \"learning_rate\": trial.suggest_float(\"learning_rate\", 0.005, 0.05, log=True),\n",
        "        \"num_leaves\": trial.suggest_int(\"num_leaves\", 50, 200),\n",
        "        \"max_depth\": trial.suggest_int(\"max_depth\", 4, 10),\n",
        "        \"subsample\": trial.suggest_float(\"subsample\", 0.6, 0.9),\n",
        "        \"colsample_bytree\": trial.suggest_float(\"colsample_bytree\", 0.6, 0.9),\n",
        "        \"reg_alpha\": trial.suggest_float(\"reg_alpha\", 0.0, 1.0),\n",
        "        \"reg_lambda\": trial.suggest_float(\"reg_lambda\", 0.0, 1.0),\n",
        "        \"min_child_samples\": trial.suggest_int(\"min_child_samples\", 20, 200),\n",
        "        \"random_state\": 42,\n",
        "        \"n_jobs\": -1,\n",
        "        \"verbosity\": -1\n",
        "    }\n",
        "\n",
        "    kf = KFold(n_splits=5, shuffle=True, random_state=42)\n",
        "    rmse_scores = []\n",
        "\n",
        "    for train_idx, val_idx in kf.split(X):\n",
        "        X_train, X_val = X.iloc[train_idx], X.iloc[val_idx]\n",
        "        y_train, y_val = y.iloc[train_idx], y.iloc[val_idx]\n",
        "\n",
        "        model = LGBMRegressor(**params)\n",
        "        model.fit(\n",
        "            X_train, y_train,\n",
        "            eval_set=[(X_val, y_val)],\n",
        "            eval_metric=\"rmse\",\n",
        "            callbacks=[optuna.integration.LightGBMPruningCallback(trial, \"rmse\")]\n",
        "        )\n",
        "        preds = model.predict(X_val)\n",
        "        mse = mean_squared_error(y_val, preds)\n",
        "        rmse = np.sqrt(mse)\n",
        "        rmse_scores.append(rmse)\n",
        "        \n",
        "    return np.mean(rmse_scores)\n",
        "\n",
        "study = optuna.create_study(direction=\"minimize\")\n",
        "study.optimize(objective, n_trials=40, show_progress_bar=True)\n",
        "\n",
        "print(\"Best RMSE:\", study.best_value)\n",
        "print(\"Best Params:\", study.best_params)\n",
        "\n",
        "best_params = study.best_params"
      ]
    },
    {
      "cell_type": "code",
      "execution_count": 10,
      "metadata": {},
      "outputs": [],
      "source": [
        "# Set up 8-Fold CV\n",
        "kf = KFold(n_splits=8, shuffle=True, random_state=42)\n",
        "rmse_scores = []\n",
        "test_X = test_cat.drop(columns=['id'])\n",
        "test_preds_all = np.zeros(len(test_X))"
      ]
    },
    {
      "cell_type": "code",
      "execution_count": 11,
      "metadata": {},
      "outputs": [
        {
          "name": "stdout",
          "output_type": "stream",
          "text": [
            "\n",
            "===== Fold 1 / 8 =====\n",
            "Training until validation scores don't improve for 200 rounds\n",
            "Early stopping, best iteration is:\n",
            "[770]\tvalid_0's rmse: 0.0559701\tvalid_0's l2: 0.00313265\n",
            "Fold 1 RMSE: 0.05598\n",
            "\n",
            "===== Fold 2 / 8 =====\n",
            "Training until validation scores don't improve for 200 rounds\n",
            "Early stopping, best iteration is:\n",
            "[778]\tvalid_0's rmse: 0.0564715\tvalid_0's l2: 0.00318903\n",
            "Fold 2 RMSE: 0.05646\n",
            "\n",
            "===== Fold 3 / 8 =====\n",
            "Training until validation scores don't improve for 200 rounds\n",
            "Early stopping, best iteration is:\n",
            "[911]\tvalid_0's rmse: 0.0561182\tvalid_0's l2: 0.00314926\n",
            "Fold 3 RMSE: 0.05613\n",
            "\n",
            "===== Fold 4 / 8 =====\n",
            "Training until validation scores don't improve for 200 rounds\n",
            "Early stopping, best iteration is:\n",
            "[632]\tvalid_0's rmse: 0.0561116\tvalid_0's l2: 0.00314852\n",
            "Fold 4 RMSE: 0.05614\n",
            "\n",
            "===== Fold 5 / 8 =====\n",
            "Training until validation scores don't improve for 200 rounds\n",
            "Early stopping, best iteration is:\n",
            "[894]\tvalid_0's rmse: 0.0560333\tvalid_0's l2: 0.00313973\n",
            "Fold 5 RMSE: 0.05602\n",
            "\n",
            "===== Fold 6 / 8 =====\n",
            "Training until validation scores don't improve for 200 rounds\n",
            "Early stopping, best iteration is:\n",
            "[1006]\tvalid_0's rmse: 0.0559642\tvalid_0's l2: 0.00313199\n",
            "Fold 6 RMSE: 0.05597\n",
            "\n",
            "===== Fold 7 / 8 =====\n",
            "Training until validation scores don't improve for 200 rounds\n",
            "Early stopping, best iteration is:\n",
            "[841]\tvalid_0's rmse: 0.0557972\tvalid_0's l2: 0.00311332\n",
            "Fold 7 RMSE: 0.05579\n",
            "\n",
            "===== Fold 8 / 8 =====\n",
            "Training until validation scores don't improve for 200 rounds\n",
            "Early stopping, best iteration is:\n",
            "[877]\tvalid_0's rmse: 0.0559438\tvalid_0's l2: 0.0031297\n",
            "Fold 8 RMSE: 0.05593\n",
            "\n",
            "============================\n",
            "Average RMSE (equal 0.5 blend): 0.05605\n",
            "============================\n"
          ]
        }
      ],
      "source": [
        "# store out-of-fold preds for later alpha tuning\n",
        "oof_lgb = np.zeros(len(X))\n",
        "oof_y = y.values.copy()\n",
        "oof_rf = np.zeros(len(X))\n",
        "\n",
        "for fold, (train_idx, val_idx) in enumerate(kf.split(X)):\n",
        "    print(f\"\\n===== Fold {fold + 1} / {kf.n_splits} =====\")\n",
        "    X_train, X_val = X.iloc[train_idx], X.iloc[val_idx]\n",
        "    y_train, y_val = y.iloc[train_idx], y.iloc[val_idx]\n",
        "\n",
        "    # Align columns\n",
        "    X_val = X_val[X_train.columns]\n",
        "    test_X = test_X[X_train.columns]\n",
        "\n",
        "    # === LightGBM model (tuned) ===\n",
        "    model_lgb = LGBMRegressor(\n",
        "        **study.best_params,\n",
        "        n_estimators=12000,\n",
        "        random_state=42,\n",
        "        n_jobs=-1,\n",
        "        verbosity=-1\n",
        "    )\n",
        "\n",
        "    model_lgb.fit(\n",
        "        X_train, y_train,\n",
        "        eval_set=[(X_val, y_val)],\n",
        "        eval_metric='rmse',\n",
        "        callbacks=[early_stopping(200), log_evaluation(0)]\n",
        "    )\n",
        "    \n",
        "    preds_lgb = model_lgb.predict(X_val)\n",
        "    oof_lgb[val_idx] = preds_lgb\n",
        "\n",
        "    # === Random Forest model ===\n",
        "    # === Prepare numeric data for Random Forest ===\n",
        "    X_train_rf = pd.get_dummies(X_train, drop_first=True)\n",
        "    X_val_rf   = pd.get_dummies(X_val, drop_first=True)\n",
        "\n",
        "    # Align columns (since get_dummies may create mismatched columns)\n",
        "    X_train_rf, X_val_rf = X_train_rf.align(X_val_rf, join='left', axis=1, fill_value=0)\n",
        "\n",
        "    model_rf = RandomForestRegressor(\n",
        "        n_estimators=500,\n",
        "        max_depth=15,\n",
        "        min_samples_leaf=2,\n",
        "        random_state=42,\n",
        "        n_jobs=-1\n",
        "    )\n",
        "    model_rf.fit(X_train_rf, y_train)\n",
        "    preds_rf = model_rf.predict(X_val_rf)\n",
        "    oof_rf[val_idx] = preds_rf\n",
        "\n",
        "    # temporary equal blend for monitoring\n",
        "    val_preds = 0.5 * preds_lgb + 0.5 * preds_rf\n",
        "\n",
        "    rmse = np.sqrt(mean_squared_error(y_val, val_preds))\n",
        "    rmse_scores.append(rmse)\n",
        "    print(f\"Fold {fold + 1} RMSE: {rmse:.5f}\")\n",
        "\n",
        "    # === Predict on test and accumulate (equal blend for now) ===\n",
        "    test_X_rf = pd.get_dummies(test_X, drop_first=True)\n",
        "    test_X_rf = test_X_rf.reindex(columns=X_train_rf.columns, fill_value=0)\n",
        "\n",
        "    test_pred_lgb = model_lgb.predict(test_X)\n",
        "    test_pred_rf = model_rf.predict(test_X_rf)\n",
        "    test_preds_all += (0.5 * test_pred_lgb + 0.5 * test_pred_rf) / kf.n_splits\n",
        "\n",
        "# Display preliminary CV RMSE\n",
        "print(\"\\n============================\")\n",
        "print(f\"Average RMSE (equal 0.5 blend): {np.mean(rmse_scores):.5f}\")\n",
        "print(\"============================\")"
      ]
    },
    {
      "cell_type": "code",
      "execution_count": 12,
      "metadata": {},
      "outputs": [
        {
          "name": "stdout",
          "output_type": "stream",
          "text": [
            "\n",
            "Overall OOF correlation between LGBM and RF: 0.9133\n"
          ]
        },
        {
          "data": {
            "image/png": "[encoded data removed]",
            "text/plain": [
              "<Figure size 600x500 with 1 Axes>"
            ]
          },
          "metadata": {},
          "output_type": "display_data"
        }
      ],
      "source": [
        "overall_corr = np.corrcoef(oof_lgb, oof_rf)[0, 1]\n",
        "print(f\"\\nOverall OOF correlation between LGBM and RF: {overall_corr:.4f}\")\n",
        "\n",
        "plt.figure(figsize=(6, 5))\n",
        "sns.kdeplot(x=oof_lgb, y=oof_rf, fill=True, cmap='viridis')\n",
        "plt.title(f'OOF Prediction Correlation: {overall_corr:.4f}')\n",
        "plt.xlabel('LGBM OOF Predictions')\n",
        "plt.ylabel('RF OOF Predictions')\n",
        "plt.tight_layout()\n",
        "plt.show()"
      ]
    },
    {
      "cell_type": "code",
      "execution_count": 13,
      "metadata": {},
      "outputs": [
        {
          "name": "stderr",
          "output_type": "stream",
          "text": [
            "[I 2025-10-28 17:38:53,559] A new study created in memory with name: no-name-64a6f7ed-787a-4e9b-a172-6748a06690a6\n",
            "[I 2025-10-28 17:38:53,568] Trial 0 finished with value: 0.056023550648007917 and parameters: {'alpha': 0.8238597794839118}. Best is trial 0 with value: 0.056023550648007917.\n",
            "[I 2025-10-28 17:38:53,576] Trial 1 finished with value: 0.05607626045509812 and parameters: {'alpha': 0.4196939460636917}. Best is trial 0 with value: 0.056023550648007917.\n",
            "[I 2025-10-28 17:38:53,583] Trial 2 finished with value: 0.05602754009508907 and parameters: {'alpha': 0.6382116761793827}. Best is trial 0 with value: 0.056023550648007917.\n",
            "[I 2025-10-28 17:38:53,591] Trial 3 finished with value: 0.05602996910579337 and parameters: {'alpha': 0.6185997480619531}. Best is trial 0 with value: 0.056023550648007917.\n",
            "[I 2025-10-28 17:38:53,598] Trial 4 finished with value: 0.05613917197320615 and parameters: {'alpha': 0.2656107245074466}. Best is trial 0 with value: 0.056023550648007917.\n",
            "[I 2025-10-28 17:38:53,606] Trial 5 finished with value: 0.056078414833481235 and parameters: {'alpha': 0.41326191443584526}. Best is trial 0 with value: 0.056023550648007917.\n",
            "[I 2025-10-28 17:38:53,614] Trial 6 finished with value: 0.05624299014194338 and parameters: {'alpha': 0.08481135190152622}. Best is trial 0 with value: 0.056023550648007917.\n",
            "[I 2025-10-28 17:38:53,621] Trial 7 finished with value: 0.056023695363109714 and parameters: {'alpha': 0.8258668003094434}. Best is trial 0 with value: 0.056023550648007917.\n",
            "[I 2025-10-28 17:38:53,629] Trial 8 finished with value: 0.056043322928042365 and parameters: {'alpha': 0.5410824773411291}. Best is trial 0 with value: 0.056023550648007917.\n",
            "[I 2025-10-28 17:38:53,638] Trial 9 finished with value: 0.056031574211539655 and parameters: {'alpha': 0.6070831219604089}. Best is trial 0 with value: 0.056023550648007917.\n",
            "[I 2025-10-28 17:38:53,647] Trial 10 finished with value: 0.05604344407342711 and parameters: {'alpha': 0.964649737086899}. Best is trial 0 with value: 0.056023550648007917.\n",
            "[I 2025-10-28 17:38:53,656] Trial 11 finished with value: 0.05603217758324752 and parameters: {'alpha': 0.9021756032881895}. Best is trial 0 with value: 0.056023550648007917.\n",
            "[I 2025-10-28 17:38:53,665] Trial 12 finished with value: 0.05602164441906997 and parameters: {'alpha': 0.7880620472630827}. Best is trial 12 with value: 0.05602164441906997.\n",
            "[I 2025-10-28 17:38:53,674] Trial 13 finished with value: 0.056021379217234435 and parameters: {'alpha': 0.7795481909648871}. Best is trial 13 with value: 0.056021379217234435.\n",
            "[I 2025-10-28 17:38:53,683] Trial 14 finished with value: 0.056021016987206906 and parameters: {'alpha': 0.753622932721268}. Best is trial 14 with value: 0.056021016987206906.\n",
            "[I 2025-10-28 17:38:53,692] Trial 15 finished with value: 0.05602102822425804 and parameters: {'alpha': 0.7574391412029322}. Best is trial 14 with value: 0.056021016987206906.\n",
            "[I 2025-10-28 17:38:53,701] Trial 16 finished with value: 0.05602298763603306 and parameters: {'alpha': 0.6897136452990807}. Best is trial 14 with value: 0.056021016987206906.\n",
            "[I 2025-10-28 17:38:53,711] Trial 17 finished with value: 0.056044379618573906 and parameters: {'alpha': 0.9690286003138413}. Best is trial 14 with value: 0.056021016987206906.\n",
            "[I 2025-10-28 17:38:53,720] Trial 18 finished with value: 0.056021465060026344 and parameters: {'alpha': 0.7225888086219568}. Best is trial 14 with value: 0.056021016987206906.\n",
            "[I 2025-10-28 17:38:53,729] Trial 19 finished with value: 0.056040393873384775 and parameters: {'alpha': 0.5554592979925724}. Best is trial 14 with value: 0.056021016987206906.\n",
            "[I 2025-10-28 17:38:53,739] Trial 20 finished with value: 0.05628663743321445 and parameters: {'alpha': 0.0219612226707383}. Best is trial 14 with value: 0.056021016987206906.\n",
            "[I 2025-10-28 17:38:53,747] Trial 21 finished with value: 0.05602128752819495 and parameters: {'alpha': 0.7292663065170955}. Best is trial 14 with value: 0.056021016987206906.\n",
            "[I 2025-10-28 17:38:53,756] Trial 22 finished with value: 0.056027755995728436 and parameters: {'alpha': 0.8688240963049114}. Best is trial 14 with value: 0.056021016987206906.\n",
            "[I 2025-10-28 17:38:53,765] Trial 23 finished with value: 0.05602200016593173 and parameters: {'alpha': 0.7081690417361151}. Best is trial 14 with value: 0.056021016987206906.\n",
            "[I 2025-10-28 17:38:53,775] Trial 24 finished with value: 0.05607470905684985 and parameters: {'alpha': 0.4244036529237889}. Best is trial 14 with value: 0.056021016987206906.\n",
            "[I 2025-10-28 17:38:53,785] Trial 25 finished with value: 0.05602177335661687 and parameters: {'alpha': 0.7136237281272948}. Best is trial 14 with value: 0.056021016987206906.\n",
            "[I 2025-10-28 17:38:53,793] Trial 26 finished with value: 0.05603185486363048 and parameters: {'alpha': 0.8999967698626832}. Best is trial 14 with value: 0.056021016987206906.\n",
            "[I 2025-10-28 17:38:53,803] Trial 27 finished with value: 0.05612624131400768 and parameters: {'alpha': 0.29305542972111587}. Best is trial 14 with value: 0.056021016987206906.\n",
            "[I 2025-10-28 17:38:53,811] Trial 28 finished with value: 0.05605084298679302 and parameters: {'alpha': 0.5080086652612986}. Best is trial 14 with value: 0.056021016987206906.\n",
            "[I 2025-10-28 17:38:53,821] Trial 29 finished with value: 0.056021733448302836 and parameters: {'alpha': 0.7904939543711695}. Best is trial 14 with value: 0.056021016987206906.\n",
            "[I 2025-10-28 17:38:53,830] Trial 30 finished with value: 0.056025084234492775 and parameters: {'alpha': 0.8428885234049093}. Best is trial 14 with value: 0.056021016987206906.\n",
            "[I 2025-10-28 17:38:53,840] Trial 31 finished with value: 0.05602105202705861 and parameters: {'alpha': 0.7610255942017182}. Best is trial 14 with value: 0.056021016987206906.\n",
            "[I 2025-10-28 17:38:53,848] Trial 32 finished with value: 0.05602102757522006 and parameters: {'alpha': 0.7573033674206265}. Best is trial 14 with value: 0.056021016987206906.\n",
            "[I 2025-10-28 17:38:53,858] Trial 33 finished with value: 0.05602758015893069 and parameters: {'alpha': 0.6378610090655052}. Best is trial 14 with value: 0.056021016987206906.\n",
            "[I 2025-10-28 17:38:53,869] Trial 34 finished with value: 0.056024457018020994 and parameters: {'alpha': 0.6695240209612918}. Best is trial 14 with value: 0.056021016987206906.\n",
            "[I 2025-10-28 17:38:53,880] Trial 35 finished with value: 0.056021149665443 and parameters: {'alpha': 0.7689223071114132}. Best is trial 14 with value: 0.056021016987206906.\n",
            "[I 2025-10-28 17:38:53,890] Trial 36 finished with value: 0.05603485195448736 and parameters: {'alpha': 0.5860197740894962}. Best is trial 14 with value: 0.056021016987206906.\n",
            "[I 2025-10-28 17:38:53,899] Trial 37 finished with value: 0.0560499603913105 and parameters: {'alpha': 0.9935032393960849}. Best is trial 14 with value: 0.056021016987206906.\n",
            "[I 2025-10-28 17:38:53,908] Trial 38 finished with value: 0.05603438787019154 and parameters: {'alpha': 0.9163211722323086}. Best is trial 14 with value: 0.056021016987206906.\n",
            "[I 2025-10-28 17:38:53,917] Trial 39 finished with value: 0.056067636701569314 and parameters: {'alpha': 0.4467896961223946}. Best is trial 14 with value: 0.056021016987206906.\n"
          ]
        },
        {
          "name": "stdout",
          "output_type": "stream",
          "text": [
            "✅ Best alpha for blending: 0.7536\n"
          ]
        }
      ],
      "source": [
        "# =====================================================\n",
        "# === Tune alpha weight between LGBM & RF ===\n",
        "# =====================================================\n",
        "def objective_alpha(trial):\n",
        "    alpha = trial.suggest_float(\"alpha\", 0.0, 1.0)\n",
        "    blend = alpha * oof_lgb + (1 - alpha) * oof_rf\n",
        "    return np.sqrt(mean_squared_error(oof_y, blend))\n",
        "\n",
        "study_alpha = optuna.create_study(direction=\"minimize\")\n",
        "study_alpha.optimize(objective_alpha, n_trials=40)\n",
        "best_alpha = study_alpha.best_params[\"alpha\"]\n",
        "print(f\"✅ Best alpha for blending: {best_alpha:.4f}\")"
      ]
    },
    {
      "cell_type": "code",
      "execution_count": 14,
      "metadata": {},
      "outputs": [
        {
          "name": "stdout",
          "output_type": "stream",
          "text": [
            "Final blended OOF RMSE: 0.05602\n"
          ]
        }
      ],
      "source": [
        "# =====================================================\n",
        "# === Final blending using best alpha ===\n",
        "# =====================================================\n",
        "# recompute CV RMSE using best alpha\n",
        "final_oof = best_alpha * oof_lgb + (1 - best_alpha) * oof_rf\n",
        "final_rmse = np.sqrt(mean_squared_error(oof_y, final_oof))\n",
        "print(f\"Final blended OOF RMSE: {final_rmse:.5f}\")\n",
        "\n",
        "# re-blend test predictions using alpha\n",
        "test_pred_final = best_alpha * test_pred_lgb + (1 - best_alpha) * test_pred_rf"
      ]
    },
    {
      "cell_type": "code",
      "execution_count": 15,
      "metadata": {},
      "outputs": [
        {
          "name": "stdout",
          "output_type": "stream",
          "text": [
            "\n",
            "--- Ridge Regression Meta-Blender ---\n",
            "Ridge-blend OOF RMSE: 0.05602\n",
            "Ridge coefficients (LGBM, RF): [0.75033773 0.24743416]\n",
            "Optuna alpha-blend OOF RMSE: 0.05602\n",
            "✅ Ridge performs slightly better; using Ridge predictions.\n"
          ]
        }
      ],
      "source": [
        "# =====================================================\n",
        "# === Ridge regression meta-blender ===\n",
        "# =====================================================\n",
        "from sklearn.linear_model import RidgeCV\n",
        "\n",
        "print(\"\\n--- Ridge Regression Meta-Blender ---\")\n",
        "\n",
        "meta_X = np.vstack([oof_lgb, oof_rf]).T\n",
        "meta_y = oof_y\n",
        "\n",
        "ridge = RidgeCV(alphas=[1e-4, 1e-3, 1e-2, 1e-1, 1, 10])\n",
        "ridge.fit(meta_X, meta_y)\n",
        "ridge_oof = ridge.predict(meta_X)\n",
        "ridge_rmse = np.sqrt(mean_squared_error(meta_y, ridge_oof))\n",
        "print(f\"Ridge-blend OOF RMSE: {ridge_rmse:.5f}\")\n",
        "print(\"Ridge coefficients (LGBM, RF):\", ridge.coef_)\n",
        "\n",
        "# Predict on test set using same meta model\n",
        "test_meta_X = np.vstack([test_pred_lgb, test_pred_rf]).T\n",
        "test_pred_ridge = ridge.predict(test_meta_X)\n",
        "\n",
        "# Optionally compare with Optuna alpha blend\n",
        "print(f\"Optuna alpha-blend OOF RMSE: {final_rmse:.5f}\")\n",
        "if ridge_rmse < final_rmse:\n",
        "    print(\"✅ Ridge performs slightly better; using Ridge predictions.\")\n",
        "    test_pred_final = test_pred_ridge\n",
        "else:\n",
        "    print(\"ℹ️ Keeping Optuna alpha blend as final.\")"
      ]
    },
    {
      "cell_type": "code",
      "execution_count": 16,
      "metadata": {},
      "outputs": [
        {
          "name": "stdout",
          "output_type": "stream",
          "text": [
            "✅ Saved OOF predictions to oof_lgb_rf.csv\n",
            "✅ Saved test predictions to test_lgb_rf.csv\n"
          ]
        }
      ],
      "source": [
        "# =====================================================\n",
        "# === Save OOF and test predictions for stacking ===\n",
        "# =====================================================\n",
        "\n",
        "# Save OOF predictions for meta-learning later\n",
        "oof_df = pd.DataFrame({\n",
        "    'id': train_cat['id'],\n",
        "    'oof_lgb': oof_lgb,\n",
        "    'oof_rf': oof_rf,\n",
        "    'oof_blend': final_oof,\n",
        "})\n",
        "\n",
        "# Map y_base and accident_risk by ID (safe alignment)\n",
        "ybase_map = dict(zip(train['id'], train['y_base']))\n",
        "true_map = dict(zip(train['id'], train['accident_risk']))\n",
        "\n",
        "# Add baseline offset to all model OOF predictions\n",
        "for col in [\"oof_lgb\", \"oof_rf\", \"oof_blend\"]:\n",
        "    oof_df[col] = oof_df[col] + oof_df[\"id\"].map(ybase_map)\n",
        "\n",
        "# Replace label with full-scale accident_risk\n",
        "oof_df[\"y_true\"] = oof_df[\"id\"].map(true_map)\n",
        "\n",
        "oof_df.to_csv('oof_lgb_rf.csv', index=False)\n",
        "print(\"✅ Saved OOF predictions to oof_lgb_rf.csv\")\n",
        "\n",
        "# Save test predictions (for later external blending)\n",
        "test_stack_df = pd.DataFrame({\n",
        "    'id': test_cat['id'],\n",
        "    'test_lgb': test_pred_lgb,\n",
        "    'test_rf': test_pred_rf,\n",
        "    'test_blend': test_pred_final\n",
        "})\n",
        "\n",
        "test_ybase_map = dict(zip(test_cat[\"id\"], test[\"y_base\"]))\n",
        "for col in [\"test_lgb\", \"test_rf\", \"test_blend\"]:\n",
        "    test_stack_df[col] = test_stack_df[col] + test_stack_df[\"id\"].map(test_ybase_map)\n",
        "\n",
        "test_stack_df.to_csv('test_lgb_rf.csv', index=False)\n",
        "print(\"✅ Saved test predictions to test_lgb_rf.csv\")"
      ]
    },
    {
      "cell_type": "code",
      "execution_count": 17,
      "metadata": {},
      "outputs": [
        {
          "name": "stdout",
          "output_type": "stream",
          "text": [
            "✅ submission_rfblend.csv ready for Kaggle upload!\n"
          ]
        }
      ],
      "source": [
        "# =====================================================\n",
        "# === Save final blended predictions ===\n",
        "# =====================================================\n",
        "\n",
        "# Combine optimized test predictions with baseline offset\n",
        "final_preds = test_pred_final + test[\"y_base\"]\n",
        "\n",
        "submission = pd.DataFrame({\n",
        "    'id': test_cat['id'],\n",
        "    'accident_risk': final_preds\n",
        "})\n",
        "\n",
        "submission.to_csv('submission_rfblend.csv', index=False)\n",
        "print(\"✅ submission_rfblend.csv ready for Kaggle upload!\")"
      ]
    }
  ],
  "metadata": {
    "colab": {
      "provenance": []
    },
    "kernelspec": {
      "display_name": "Python 3",
      "name": "python3"
    },
    "language_info": {
      "codemirror_mode": {
        "name": "ipython",
        "version": 3
      },
      "file_extension": ".py",
      "mimetype": "text/x-python",
      "name": "python",
      "nbconvert_exporter": "python",
      "pygments_lexer": "ipython3",
      "version": "3.13.9"
    }
  },
  "nbformat": 4,
  "nbformat_minor": 0
}
