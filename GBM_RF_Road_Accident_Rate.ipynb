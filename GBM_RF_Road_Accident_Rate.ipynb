{
  "cells": [
    {
      "cell_type": "code",
      "execution_count": 1,
      "metadata": {
        "id": "w99x30GORa-E"
      },
      "outputs": [
        {
          "name": "stderr",
          "output_type": "stream",
          "text": [
            "c:\\Users\\jiahe\\AppData\\Local\\Programs\\Python\\Python313\\Lib\\site-packages\\tqdm\\auto.py:21: TqdmWarning: IProgress not found. Please update jupyter and ipywidgets. See https://ipywidgets.readthedocs.io/en/stable/user_install.html\n",
            "  from .autonotebook import tqdm as notebook_tqdm\n"
          ]
        }
      ],
      "source": [
        "import pandas as pd\n",
        "import matplotlib.pyplot as plt\n",
        "import seaborn as sns\n",
        "import numpy as np\n",
        "from sklearn.model_selection import train_test_split\n",
        "from sklearn.metrics import mean_squared_error\n",
        "from sklearn.model_selection import KFold\n",
        "from lightgbm import LGBMRegressor, early_stopping, log_evaluation\n",
        "import warnings\n",
        "import optuna\n",
        "import scipy.stats as st\n",
        "from sklearn.ensemble import RandomForestRegressor\n",
        "\n",
        "warnings.filterwarnings('ignore')"
      ]
    },
    {
      "cell_type": "code",
      "execution_count": 2,
      "metadata": {
        "colab": {
          "base_uri": "https://localhost:8080/",
          "height": 241
        },
        "id": "ETobP6N-R0jX",
        "outputId": "aefd88a7-d6a4-4810-8803-8a8e95f997ab"
      },
      "outputs": [
        {
          "name": "stdout",
          "output_type": "stream",
          "text": [
            "Train shape: (517754, 14)\n",
            "Test shape: (172585, 13)\n"
          ]
        },
        {
          "data": {
            "text/html": [
              "<div>\n",
              "<style scoped>\n",
              "    .dataframe tbody tr th:only-of-type {\n",
              "        vertical-align: middle;\n",
              "    }\n",
              "\n",
              "    .dataframe tbody tr th {\n",
              "        vertical-align: top;\n",
              "    }\n",
              "\n",
              "    .dataframe thead th {\n",
              "        text-align: right;\n",
              "    }\n",
              "</style>\n",
              "<table border=\"1\" class=\"dataframe\">\n",
              "  <thead>\n",
              "    <tr style=\"text-align: right;\">\n",
              "      <th></th>\n",
              "      <th>id</th>\n",
              "      <th>road_type</th>\n",
              "      <th>num_lanes</th>\n",
              "      <th>curvature</th>\n",
              "      <th>speed_limit</th>\n",
              "      <th>lighting</th>\n",
              "      <th>weather</th>\n",
              "      <th>road_signs_present</th>\n",
              "      <th>public_road</th>\n",
              "      <th>time_of_day</th>\n",
              "      <th>holiday</th>\n",
              "      <th>school_season</th>\n",
              "      <th>num_reported_accidents</th>\n",
              "      <th>accident_risk</th>\n",
              "    </tr>\n",
              "  </thead>\n",
              "  <tbody>\n",
              "    <tr>\n",
              "      <th>0</th>\n",
              "      <td>0</td>\n",
              "      <td>urban</td>\n",
              "      <td>2</td>\n",
              "      <td>0.06</td>\n",
              "      <td>35</td>\n",
              "      <td>daylight</td>\n",
              "      <td>rainy</td>\n",
              "      <td>False</td>\n",
              "      <td>True</td>\n",
              "      <td>afternoon</td>\n",
              "      <td>False</td>\n",
              "      <td>True</td>\n",
              "      <td>1</td>\n",
              "      <td>0.13</td>\n",
              "    </tr>\n",
              "    <tr>\n",
              "      <th>1</th>\n",
              "      <td>1</td>\n",
              "      <td>urban</td>\n",
              "      <td>4</td>\n",
              "      <td>0.99</td>\n",
              "      <td>35</td>\n",
              "      <td>daylight</td>\n",
              "      <td>clear</td>\n",
              "      <td>True</td>\n",
              "      <td>False</td>\n",
              "      <td>evening</td>\n",
              "      <td>True</td>\n",
              "      <td>True</td>\n",
              "      <td>0</td>\n",
              "      <td>0.35</td>\n",
              "    </tr>\n",
              "    <tr>\n",
              "      <th>2</th>\n",
              "      <td>2</td>\n",
              "      <td>rural</td>\n",
              "      <td>4</td>\n",
              "      <td>0.63</td>\n",
              "      <td>70</td>\n",
              "      <td>dim</td>\n",
              "      <td>clear</td>\n",
              "      <td>False</td>\n",
              "      <td>True</td>\n",
              "      <td>morning</td>\n",
              "      <td>True</td>\n",
              "      <td>False</td>\n",
              "      <td>2</td>\n",
              "      <td>0.30</td>\n",
              "    </tr>\n",
              "    <tr>\n",
              "      <th>3</th>\n",
              "      <td>3</td>\n",
              "      <td>highway</td>\n",
              "      <td>4</td>\n",
              "      <td>0.07</td>\n",
              "      <td>35</td>\n",
              "      <td>dim</td>\n",
              "      <td>rainy</td>\n",
              "      <td>True</td>\n",
              "      <td>True</td>\n",
              "      <td>morning</td>\n",
              "      <td>False</td>\n",
              "      <td>False</td>\n",
              "      <td>1</td>\n",
              "      <td>0.21</td>\n",
              "    </tr>\n",
              "    <tr>\n",
              "      <th>4</th>\n",
              "      <td>4</td>\n",
              "      <td>rural</td>\n",
              "      <td>1</td>\n",
              "      <td>0.58</td>\n",
              "      <td>60</td>\n",
              "      <td>daylight</td>\n",
              "      <td>foggy</td>\n",
              "      <td>False</td>\n",
              "      <td>False</td>\n",
              "      <td>evening</td>\n",
              "      <td>True</td>\n",
              "      <td>False</td>\n",
              "      <td>1</td>\n",
              "      <td>0.56</td>\n",
              "    </tr>\n",
              "  </tbody>\n",
              "</table>\n",
              "</div>"
            ],
            "text/plain": [
              "   id road_type  num_lanes  curvature  speed_limit  lighting weather  \\\n",
              "0   0     urban          2       0.06           35  daylight   rainy   \n",
              "1   1     urban          4       0.99           35  daylight   clear   \n",
              "2   2     rural          4       0.63           70       dim   clear   \n",
              "3   3   highway          4       0.07           35       dim   rainy   \n",
              "4   4     rural          1       0.58           60  daylight   foggy   \n",
              "\n",
              "   road_signs_present  public_road time_of_day  holiday  school_season  \\\n",
              "0               False         True   afternoon    False           True   \n",
              "1                True        False     evening     True           True   \n",
              "2               False         True     morning     True          False   \n",
              "3                True         True     morning    False          False   \n",
              "4               False        False     evening     True          False   \n",
              "\n",
              "   num_reported_accidents  accident_risk  \n",
              "0                       1           0.13  \n",
              "1                       0           0.35  \n",
              "2                       2           0.30  \n",
              "3                       1           0.21  \n",
              "4                       1           0.56  "
            ]
          },
          "execution_count": 2,
          "metadata": {},
          "output_type": "execute_result"
        }
      ],
      "source": [
        "test = pd.read_csv(r\"C:\\Users\\jiahe\\OneDrive\\Desktop\\kaggle\\test.csv\")\n",
        "train = pd.read_csv(r\"C:\\Users\\jiahe\\OneDrive\\Desktop\\kaggle\\train.csv\")\n",
        "\n",
        "print(\"Train shape:\", train.shape)\n",
        "print(\"Test shape:\", test.shape)\n",
        "train.head()"
      ]
    },
    {
      "cell_type": "code",
      "execution_count": 3,
      "metadata": {
        "colab": {
          "base_uri": "https://localhost:8080/",
          "height": 398
        },
        "id": "TNAxDkyWSUnL",
        "outputId": "38ada3a0-779a-4365-dac7-06a4b63cff26"
      },
      "outputs": [
        {
          "data": {
            "text/plain": [
              "id                    0\n",
              "road_type             0\n",
              "num_lanes             0\n",
              "curvature             0\n",
              "speed_limit           0\n",
              "lighting              0\n",
              "weather               0\n",
              "road_signs_present    0\n",
              "public_road           0\n",
              "time_of_day           0\n",
              "dtype: int64"
            ]
          },
          "execution_count": 3,
          "metadata": {},
          "output_type": "execute_result"
        }
      ],
      "source": [
        "train.isnull().sum().sort_values(ascending=False).head(10)"
      ]
    },
    {
      "cell_type": "code",
      "execution_count": 4,
      "metadata": {
        "colab": {
          "base_uri": "https://localhost:8080/",
          "height": 410
        },
        "id": "V2Jr5HjoSYPF",
        "outputId": "d569ebb1-6560-46e9-9f92-8cd5598af41d"
      },
      "outputs": [
        {
          "data": {
            "image/png": "[encoded data removed]",
            "text/plain": [
              "<Figure size 600x400 with 1 Axes>"
            ]
          },
          "metadata": {},
          "output_type": "display_data"
        }
      ],
      "source": [
        "plt.figure(figsize=(6,4))\n",
        "sns.histplot(train['accident_risk'], bins=30, kde=True, color='teal')\n",
        "plt.title(\"Distribution of Accident Risk\")\n",
        "plt.xlabel(\"accident_risk\")\n",
        "plt.ylabel(\"Frequency\")\n",
        "plt.show()"
      ]
    },
    {
      "cell_type": "code",
      "execution_count": 5,
      "metadata": {},
      "outputs": [],
      "source": [
        "train_cat = train.copy()\n",
        "test_cat = test.copy()\n",
        "\n",
        "cat_cols = ['road_type', 'lighting', 'weather', 'time_of_day']\n",
        "\n",
        "for col in cat_cols:\n",
        "    categories = pd.Categorical(pd.concat([train_cat[col], test_cat[col]], axis=0)).categories\n",
        "    train_cat[col] = pd.Categorical(train_cat[col], categories=categories)\n",
        "    test_cat[col] = pd.Categorical(test_cat[col], categories=categories)"
      ]
    },
    {
      "cell_type": "code",
      "execution_count": 6,
      "metadata": {},
      "outputs": [
        {
          "name": "stdout",
          "output_type": "stream",
          "text": [
            "Target encoding: road_type\n",
            "Target encoding: lighting\n",
            "Target encoding: weather\n",
            "Target encoding: time_of_day\n"
          ]
        }
      ],
      "source": [
        "# List of categorical columns to target encode\n",
        "target_encode_cols = ['road_type', 'lighting', 'weather', 'time_of_day']\n",
        "\n",
        "# Initialize KFold for target encoding\n",
        "kf = KFold(n_splits=5, shuffle=True, random_state=42)\n",
        "encoded_features = pd.DataFrame(index=train.index)\n",
        "\n",
        "for col in target_encode_cols:\n",
        "    print(f\"Target encoding: {col}\")\n",
        "    oof = pd.Series(np.nan, index=train.index)\n",
        "\n",
        "    # Create out-of-fold mean for each category\n",
        "    for train_idx, val_idx in kf.split(train):\n",
        "        means = train.iloc[train_idx].groupby(col)['accident_risk'].mean()\n",
        "        oof.iloc[val_idx] = train.iloc[val_idx][col].astype(str).map(means)\n",
        "\n",
        "\n",
        "    encoded_features[col + '_te'] = oof\n",
        "\n",
        "# Add encoded features to train\n",
        "train = pd.concat([train, encoded_features], axis=1)\n",
        "\n",
        "# Apply same encoding (using full-train mean) to test\n",
        "for col in target_encode_cols:\n",
        "    global_mean = train.groupby(col)['accident_risk'].mean()\n",
        "    test[col + '_te'] = test[col].astype(str).map(global_mean)"
      ]
    },
    {
      "cell_type": "code",
      "execution_count": 7,
      "metadata": {},
      "outputs": [],
      "source": [
        "# =====================================================\n",
        "# === Define baseline analytic function and clipper ===\n",
        "# =====================================================\n",
        "def f_base(X):\n",
        "    \"\"\"Simple analytic approximation of accident risk.\"\"\"\n",
        "    return (\n",
        "        0.3 * X[\"curvature\"]\n",
        "        + 0.2 * (X[\"lighting\"] == \"night\").astype(int)\n",
        "        + 0.1 * (X[\"weather\"] != \"clear\").astype(int)\n",
        "        + 0.2 * (X[\"speed_limit\"] >= 60).astype(int)\n",
        "        + 0.1 * (X[\"num_reported_accidents\"] > 2).astype(int)\n",
        "    )\n",
        "\n",
        "def clip(f, sigma=0.05):\n",
        "    \"\"\"Smoothly clip predictions into [0,1] using truncated normal expectation.\"\"\"\n",
        "    def clip_f(X):\n",
        "        mu = f(X)\n",
        "        a, b = -mu/sigma, (1 - mu)/sigma\n",
        "        Phi_a, Phi_b = st.norm.cdf(a), st.norm.cdf(b)\n",
        "        phi_a, phi_b = st.norm.pdf(a), st.norm.pdf(b)\n",
        "        return mu*(Phi_b - Phi_a) + sigma*(phi_a - phi_b) + 1 - Phi_b\n",
        "    return clip_f\n",
        "\n",
        "# Apply baseline to train and test\n",
        "train[\"y_base\"] = clip(f_base)(train)\n",
        "test[\"y_base\"] = clip(f_base)(test)\n",
        "\n",
        "# Compute residual target\n",
        "train[\"y_resid\"] = train[\"accident_risk\"] - train[\"y_base\"]"
      ]
    },
    {
      "cell_type": "code",
      "execution_count": 8,
      "metadata": {},
      "outputs": [],
      "source": [
        "X = train_cat.drop(columns=['id', 'accident_risk'])\n",
        "y = train['y_resid']\n",
        "kf = KFold(n_splits=5, shuffle=True, random_state=42)"
      ]
    },
    {
      "cell_type": "code",
      "execution_count": 9,
      "metadata": {},
      "outputs": [
        {
          "name": "stdout",
          "output_type": "stream",
          "text": [
            "Fold 1\n",
            "[LightGBM] [Info] Auto-choosing row-wise multi-threading, the overhead of testing was 0.003801 seconds.\n",
            "You can set `force_row_wise=true` to remove the overhead.\n",
            "And if memory is not enough, you can set `force_col_wise=true`.\n",
            "[LightGBM] [Info] Total Bins 170\n",
            "[LightGBM] [Info] Number of data points in the train set: 414203, number of used features: 12\n",
            "[LightGBM] [Info] Start training from score -0.000177\n",
            "Training until validation scores don't improve for 100 rounds\n",
            "Did not meet early stopping. Best iteration is:\n",
            "[1000]\tvalid_0's rmse: 0.0562943\tvalid_0's l2: 0.00316905\n",
            "Fold 2\n",
            "[LightGBM] [Info] Auto-choosing row-wise multi-threading, the overhead of testing was 0.003805 seconds.\n",
            "You can set `force_row_wise=true` to remove the overhead.\n",
            "And if memory is not enough, you can set `force_col_wise=true`.\n",
            "[LightGBM] [Info] Total Bins 170\n",
            "[LightGBM] [Info] Number of data points in the train set: 414203, number of used features: 12\n",
            "[LightGBM] [Info] Start training from score -0.000280\n",
            "Training until validation scores don't improve for 100 rounds\n",
            "Did not meet early stopping. Best iteration is:\n",
            "[1000]\tvalid_0's rmse: 0.056169\tvalid_0's l2: 0.00315496\n",
            "Fold 3\n",
            "[LightGBM] [Info] Auto-choosing row-wise multi-threading, the overhead of testing was 0.003711 seconds.\n",
            "You can set `force_row_wise=true` to remove the overhead.\n",
            "And if memory is not enough, you can set `force_col_wise=true`.\n",
            "[LightGBM] [Info] Total Bins 176\n",
            "[LightGBM] [Info] Number of data points in the train set: 414203, number of used features: 12\n",
            "[LightGBM] [Info] Start training from score -0.000147\n",
            "Training until validation scores don't improve for 100 rounds\n",
            "Did not meet early stopping. Best iteration is:\n",
            "[978]\tvalid_0's rmse: 0.0561706\tvalid_0's l2: 0.00315513\n",
            "Fold 4\n",
            "[LightGBM] [Info] Auto-choosing row-wise multi-threading, the overhead of testing was 0.003910 seconds.\n",
            "You can set `force_row_wise=true` to remove the overhead.\n",
            "And if memory is not enough, you can set `force_col_wise=true`.\n",
            "[LightGBM] [Info] Total Bins 178\n",
            "[LightGBM] [Info] Number of data points in the train set: 414203, number of used features: 12\n",
            "[LightGBM] [Info] Start training from score -0.000169\n",
            "Training until validation scores don't improve for 100 rounds\n",
            "Did not meet early stopping. Best iteration is:\n",
            "[1000]\tvalid_0's rmse: 0.0560317\tvalid_0's l2: 0.00313955\n",
            "Fold 5\n",
            "[LightGBM] [Info] Auto-choosing row-wise multi-threading, the overhead of testing was 0.004354 seconds.\n",
            "You can set `force_row_wise=true` to remove the overhead.\n",
            "And if memory is not enough, you can set `force_col_wise=true`.\n",
            "[LightGBM] [Info] Total Bins 173\n",
            "[LightGBM] [Info] Number of data points in the train set: 414204, number of used features: 12\n",
            "[LightGBM] [Info] Start training from score -0.000219\n",
            "Training until validation scores don't improve for 100 rounds\n",
            "Did not meet early stopping. Best iteration is:\n",
            "[999]\tvalid_0's rmse: 0.0559621\tvalid_0's l2: 0.00313175\n",
            "✅ Selected 12 / 12 features after multi-fold averaging.\n"
          ]
        }
      ],
      "source": [
        "importances = pd.DataFrame()\n",
        "for fold, (train_idx, val_idx) in enumerate(kf.split(X)):\n",
        "    print(f\"Fold {fold+1}\")\n",
        "    X_train, X_val = X.iloc[train_idx], X.iloc[val_idx]\n",
        "    y_train, y_val = y.iloc[train_idx], y.iloc[val_idx]\n",
        "\n",
        "    model_fs = LGBMRegressor(\n",
        "        n_estimators=1000,\n",
        "        learning_rate=0.03,\n",
        "        subsample=0.8,\n",
        "        colsample_bytree=0.8,\n",
        "        random_state=42,\n",
        "        n_jobs=-1\n",
        "    )\n",
        "\n",
        "    model_fs.fit(\n",
        "        X_train, y_train,\n",
        "        eval_set=[(X_val, y_val)],\n",
        "        eval_metric='rmse',\n",
        "        callbacks=[early_stopping(100)]\n",
        "    )\n",
        "\n",
        "    fold_importance = pd.DataFrame({\n",
        "        'feature': X.columns,\n",
        "        'gain': model_fs.booster_.feature_importance(importance_type='gain'),\n",
        "        'fold': fold + 1\n",
        "    })\n",
        "    importances = pd.concat([importances, fold_importance], axis=0)\n",
        "\n",
        "# Compute feature importance\n",
        "importance_df = (\n",
        "    importances.groupby('feature')['gain']\n",
        "    .mean()\n",
        "    .sort_values(ascending=False)\n",
        "    .reset_index()\n",
        ")\n",
        "\n",
        "# Filter weak features\n",
        "threshold = importance_df['gain'].median() * 0.1\n",
        "selected_features = importance_df.query('gain > @threshold')['feature'].tolist()\n",
        "\n",
        "print(f\"✅ Selected {len(selected_features)} / {len(X.columns)} features after multi-fold averaging.\")\n",
        "\n",
        "# Reduce the dataset to selected features\n",
        "X = X[selected_features]\n",
        "test_X = test_cat[selected_features]"
      ]
    },
    {
      "cell_type": "code",
      "execution_count": 10,
      "metadata": {},
      "outputs": [
        {
          "name": "stderr",
          "output_type": "stream",
          "text": [
            "[I 2025-10-24 14:01:45,330] A new study created in memory with name: no-name-32dc8a82-82a5-444f-a492-2e956e25f2aa\n",
            "Best trial: 0. Best value: 0.0560672:   2%|▎         | 1/40 [02:22<1:32:49, 142.81s/it]"
          ]
        },
        {
          "name": "stdout",
          "output_type": "stream",
          "text": [
            "[I 2025-10-24 14:04:08,134] Trial 0 finished with value: 0.05606720500418814 and parameters: {'learning_rate': 0.011012150561776828, 'num_leaves': 122, 'max_depth': 7, 'subsample': 0.7636510251630448, 'colsample_bytree': 0.8768848675375591, 'reg_alpha': 0.7360338110880995, 'reg_lambda': 0.45220681416529496, 'min_child_samples': 88}. Best is trial 0 with value: 0.05606720500418814.\n"
          ]
        },
        {
          "name": "stderr",
          "output_type": "stream",
          "text": [
            "Best trial: 0. Best value: 0.0560672:   5%|▌         | 2/40 [08:00<2:43:10, 257.64s/it]"
          ]
        },
        {
          "name": "stdout",
          "output_type": "stream",
          "text": [
            "[I 2025-10-24 14:09:46,150] Trial 1 finished with value: 0.056171452663222834 and parameters: {'learning_rate': 0.00825046479614042, 'num_leaves': 144, 'max_depth': 10, 'subsample': 0.8256840640153746, 'colsample_bytree': 0.7565835283655855, 'reg_alpha': 0.23543312145048578, 'reg_lambda': 0.5839080017377728, 'min_child_samples': 140}. Best is trial 0 with value: 0.05606720500418814.\n"
          ]
        },
        {
          "name": "stderr",
          "output_type": "stream",
          "text": [
            "Best trial: 0. Best value: 0.0560672:   8%|▊         | 3/40 [11:54<2:32:08, 246.73s/it]"
          ]
        },
        {
          "name": "stdout",
          "output_type": "stream",
          "text": [
            "[I 2025-10-24 14:13:39,891] Trial 2 finished with value: 0.056086191103505253 and parameters: {'learning_rate': 0.008017581426955564, 'num_leaves': 52, 'max_depth': 8, 'subsample': 0.877607377525631, 'colsample_bytree': 0.673744984424818, 'reg_alpha': 0.5833585830268923, 'reg_lambda': 0.35563908988809423, 'min_child_samples': 179}. Best is trial 0 with value: 0.05606720500418814.\n"
          ]
        },
        {
          "name": "stderr",
          "output_type": "stream",
          "text": [
            "Best trial: 0. Best value: 0.0560672:  10%|█         | 4/40 [14:17<2:03:27, 205.76s/it]"
          ]
        },
        {
          "name": "stdout",
          "output_type": "stream",
          "text": [
            "[I 2025-10-24 14:16:02,835] Trial 3 finished with value: 0.05616756952696256 and parameters: {'learning_rate': 0.016241348550283943, 'num_leaves': 191, 'max_depth': 4, 'subsample': 0.6061229783139543, 'colsample_bytree': 0.812861387814124, 'reg_alpha': 0.15603981425191282, 'reg_lambda': 0.8731528781568175, 'min_child_samples': 149}. Best is trial 0 with value: 0.05606720500418814.\n"
          ]
        },
        {
          "name": "stderr",
          "output_type": "stream",
          "text": [
            "Best trial: 0. Best value: 0.0560672:  12%|█▎        | 5/40 [16:35<1:45:46, 181.32s/it]"
          ]
        },
        {
          "name": "stdout",
          "output_type": "stream",
          "text": [
            "[I 2025-10-24 14:18:20,831] Trial 4 finished with value: 0.056075016616398285 and parameters: {'learning_rate': 0.02273179062701595, 'num_leaves': 131, 'max_depth': 7, 'subsample': 0.7140366736523036, 'colsample_bytree': 0.6861099880852272, 'reg_alpha': 0.41965284442267003, 'reg_lambda': 0.6224832322832969, 'min_child_samples': 34}. Best is trial 0 with value: 0.05606720500418814.\n"
          ]
        },
        {
          "name": "stderr",
          "output_type": "stream",
          "text": [
            "Best trial: 0. Best value: 0.0560672:  15%|█▌        | 6/40 [16:40<1:08:43, 121.28s/it]"
          ]
        },
        {
          "name": "stdout",
          "output_type": "stream",
          "text": [
            "[I 2025-10-24 14:18:25,548] Trial 5 pruned. Trial was pruned at iteration 792.\n"
          ]
        },
        {
          "name": "stderr",
          "output_type": "stream",
          "text": [
            "Best trial: 0. Best value: 0.0560672:  18%|█▊        | 7/40 [16:40<44:56, 81.70s/it]   "
          ]
        },
        {
          "name": "stdout",
          "output_type": "stream",
          "text": [
            "[I 2025-10-24 14:18:25,770] Trial 6 pruned. Trial was pruned at iteration 0.\n"
          ]
        },
        {
          "name": "stderr",
          "output_type": "stream",
          "text": [
            "Best trial: 0. Best value: 0.0560672:  20%|██        | 8/40 [16:43<30:15, 56.74s/it]"
          ]
        },
        {
          "name": "stdout",
          "output_type": "stream",
          "text": [
            "[I 2025-10-24 14:18:29,075] Trial 7 pruned. Trial was pruned at iteration 514.\n"
          ]
        },
        {
          "name": "stderr",
          "output_type": "stream",
          "text": [
            "Best trial: 0. Best value: 0.0560672:  22%|██▎       | 9/40 [22:56<1:20:20, 155.51s/it]"
          ]
        },
        {
          "name": "stdout",
          "output_type": "stream",
          "text": [
            "[I 2025-10-24 14:24:41,742] Trial 8 finished with value: 0.05622997905013203 and parameters: {'learning_rate': 0.01611291874404269, 'num_leaves': 117, 'max_depth': 8, 'subsample': 0.7980802299898127, 'colsample_bytree': 0.7920779906091275, 'reg_alpha': 0.19353729985474644, 'reg_lambda': 0.41124822488949453, 'min_child_samples': 111}. Best is trial 0 with value: 0.05606720500418814.\n"
          ]
        },
        {
          "name": "stderr",
          "output_type": "stream",
          "text": [
            "Best trial: 0. Best value: 0.0560672:  25%|██▌       | 10/40 [22:56<53:46, 107.56s/it] "
          ]
        },
        {
          "name": "stdout",
          "output_type": "stream",
          "text": [
            "[I 2025-10-24 14:24:41,953] Trial 9 pruned. Trial was pruned at iteration 0.\n"
          ]
        },
        {
          "name": "stderr",
          "output_type": "stream",
          "text": [
            "Best trial: 10. Best value: 0.056042:  28%|██▊       | 11/40 [26:01<1:03:25, 131.23s/it]"
          ]
        },
        {
          "name": "stdout",
          "output_type": "stream",
          "text": [
            "[I 2025-10-24 14:27:46,841] Trial 10 finished with value: 0.056042030077783564 and parameters: {'learning_rate': 0.04844640904740081, 'num_leaves': 94, 'max_depth': 10, 'subsample': 0.7604444986789272, 'colsample_bytree': 0.6097569528290969, 'reg_alpha': 0.9640287815171679, 'reg_lambda': 0.16601924946931562, 'min_child_samples': 74}. Best is trial 10 with value: 0.056042030077783564.\n"
          ]
        },
        {
          "name": "stderr",
          "output_type": "stream",
          "text": [
            "Best trial: 10. Best value: 0.056042:  30%|███       | 12/40 [26:01<42:38, 91.38s/it]   "
          ]
        },
        {
          "name": "stdout",
          "output_type": "stream",
          "text": [
            "[I 2025-10-24 14:27:47,073] Trial 11 pruned. Trial was pruned at iteration 0.\n"
          ]
        },
        {
          "name": "stderr",
          "output_type": "stream",
          "text": [
            "Best trial: 10. Best value: 0.056042:  32%|███▎      | 13/40 [28:28<48:36, 108.00s/it]"
          ]
        },
        {
          "name": "stdout",
          "output_type": "stream",
          "text": [
            "[I 2025-10-24 14:30:13,336] Trial 12 finished with value: 0.05604527416427644 and parameters: {'learning_rate': 0.045977614659510155, 'num_leaves': 90, 'max_depth': 10, 'subsample': 0.7533993483597535, 'colsample_bytree': 0.6943111167770684, 'reg_alpha': 0.7259733981426157, 'reg_lambda': 0.17718778775167096, 'min_child_samples': 69}. Best is trial 10 with value: 0.056042030077783564.\n"
          ]
        },
        {
          "name": "stderr",
          "output_type": "stream",
          "text": [
            "Best trial: 10. Best value: 0.056042:  35%|███▌      | 14/40 [28:28<32:41, 75.45s/it] "
          ]
        },
        {
          "name": "stdout",
          "output_type": "stream",
          "text": [
            "[I 2025-10-24 14:30:13,553] Trial 13 pruned. Trial was pruned at iteration 0.\n"
          ]
        },
        {
          "name": "stderr",
          "output_type": "stream",
          "text": [
            "Best trial: 14. Best value: 0.056029:  38%|███▊      | 15/40 [31:05<41:42, 100.09s/it]"
          ]
        },
        {
          "name": "stdout",
          "output_type": "stream",
          "text": [
            "[I 2025-10-24 14:32:50,742] Trial 14 finished with value: 0.05602899291508443 and parameters: {'learning_rate': 0.03246292729690588, 'num_leaves': 94, 'max_depth': 10, 'subsample': 0.6746239528075708, 'colsample_bytree': 0.6941373876715184, 'reg_alpha': 0.874945324402142, 'reg_lambda': 0.01717666816276578, 'min_child_samples': 22}. Best is trial 14 with value: 0.05602899291508443.\n"
          ]
        },
        {
          "name": "stderr",
          "output_type": "stream",
          "text": [
            "Best trial: 14. Best value: 0.056029:  40%|████      | 16/40 [33:37<46:18, 115.76s/it]"
          ]
        },
        {
          "name": "stdout",
          "output_type": "stream",
          "text": [
            "[I 2025-10-24 14:35:22,899] Trial 15 finished with value: 0.05604522527082305 and parameters: {'learning_rate': 0.03061142577836808, 'num_leaves': 65, 'max_depth': 9, 'subsample': 0.6506010917254546, 'colsample_bytree': 0.6482237093640637, 'reg_alpha': 0.9183128980663604, 'reg_lambda': 0.03449144165167197, 'min_child_samples': 26}. Best is trial 14 with value: 0.05602899291508443.\n"
          ]
        },
        {
          "name": "stderr",
          "output_type": "stream",
          "text": [
            "Best trial: 14. Best value: 0.056029:  42%|████▎     | 17/40 [36:08<48:26, 126.36s/it]"
          ]
        },
        {
          "name": "stdout",
          "output_type": "stream",
          "text": [
            "[I 2025-10-24 14:37:53,920] Trial 16 finished with value: 0.056035721767999716 and parameters: {'learning_rate': 0.031210297236333916, 'num_leaves': 105, 'max_depth': 9, 'subsample': 0.6606058062675033, 'colsample_bytree': 0.7135076934683395, 'reg_alpha': 0.8035865286987354, 'reg_lambda': 0.270899496482499, 'min_child_samples': 49}. Best is trial 14 with value: 0.05602899291508443.\n"
          ]
        },
        {
          "name": "stderr",
          "output_type": "stream",
          "text": [
            "Best trial: 14. Best value: 0.056029:  45%|████▌     | 18/40 [42:53<1:17:00, 210.02s/it]"
          ]
        },
        {
          "name": "stdout",
          "output_type": "stream",
          "text": [
            "[I 2025-10-24 14:44:38,690] Trial 17 finished with value: 0.05714088775464153 and parameters: {'learning_rate': 0.03176455019646222, 'num_leaves': 154, 'max_depth': 9, 'subsample': 0.6297647563041401, 'colsample_bytree': 0.713730766581189, 'reg_alpha': 0.022878140096728283, 'reg_lambda': 0.3028207401901917, 'min_child_samples': 51}. Best is trial 14 with value: 0.05602899291508443.\n"
          ]
        },
        {
          "name": "stderr",
          "output_type": "stream",
          "text": [
            "Best trial: 14. Best value: 0.056029:  48%|████▊     | 19/40 [42:54<51:31, 147.21s/it]  "
          ]
        },
        {
          "name": "stdout",
          "output_type": "stream",
          "text": [
            "[I 2025-10-24 14:44:39,571] Trial 18 pruned. Trial was pruned at iteration 128.\n"
          ]
        },
        {
          "name": "stderr",
          "output_type": "stream",
          "text": [
            "Best trial: 14. Best value: 0.056029:  50%|█████     | 20/40 [42:54<34:21, 103.08s/it]"
          ]
        },
        {
          "name": "stdout",
          "output_type": "stream",
          "text": [
            "[I 2025-10-24 14:44:39,796] Trial 19 pruned. Trial was pruned at iteration 0.\n"
          ]
        },
        {
          "name": "stderr",
          "output_type": "stream",
          "text": [
            "Best trial: 14. Best value: 0.056029:  52%|█████▎    | 21/40 [42:54<22:52, 72.21s/it] "
          ]
        },
        {
          "name": "stdout",
          "output_type": "stream",
          "text": [
            "[I 2025-10-24 14:44:40,047] Trial 20 pruned. Trial was pruned at iteration 0.\n"
          ]
        },
        {
          "name": "stderr",
          "output_type": "stream",
          "text": [
            "Best trial: 14. Best value: 0.056029:  55%|█████▌    | 22/40 [45:22<28:28, 94.89s/it]"
          ]
        },
        {
          "name": "stdout",
          "output_type": "stream",
          "text": [
            "[I 2025-10-24 14:47:07,834] Trial 21 finished with value: 0.05604550088195485 and parameters: {'learning_rate': 0.03590088305195738, 'num_leaves': 82, 'max_depth': 10, 'subsample': 0.6017258134615979, 'colsample_bytree': 0.6426100193110597, 'reg_alpha': 0.9936537466594118, 'reg_lambda': 0.12771168975913613, 'min_child_samples': 71}. Best is trial 14 with value: 0.05602899291508443.\n"
          ]
        },
        {
          "name": "stderr",
          "output_type": "stream",
          "text": [
            "Best trial: 14. Best value: 0.056029:  57%|█████▊    | 23/40 [45:22<18:50, 66.49s/it]"
          ]
        },
        {
          "name": "stdout",
          "output_type": "stream",
          "text": [
            "[I 2025-10-24 14:47:08,066] Trial 22 pruned. Trial was pruned at iteration 0.\n"
          ]
        },
        {
          "name": "stderr",
          "output_type": "stream",
          "text": [
            "Best trial: 14. Best value: 0.056029:  60%|██████    | 24/40 [48:27<27:11, 101.95s/it]"
          ]
        },
        {
          "name": "stdout",
          "output_type": "stream",
          "text": [
            "[I 2025-10-24 14:50:12,750] Trial 23 finished with value: 0.05605198824610157 and parameters: {'learning_rate': 0.02422450315193157, 'num_leaves': 83, 'max_depth': 10, 'subsample': 0.7841719561395123, 'colsample_bytree': 0.8250166513553052, 'reg_alpha': 0.6404341689830199, 'reg_lambda': 0.1076350661959743, 'min_child_samples': 42}. Best is trial 14 with value: 0.05602899291508443.\n"
          ]
        },
        {
          "name": "stderr",
          "output_type": "stream",
          "text": [
            "Best trial: 14. Best value: 0.056029:  62%|██████▎   | 25/40 [48:27<17:51, 71.44s/it] "
          ]
        },
        {
          "name": "stdout",
          "output_type": "stream",
          "text": [
            "[I 2025-10-24 14:50:12,995] Trial 24 pruned. Trial was pruned at iteration 2.\n"
          ]
        },
        {
          "name": "stderr",
          "output_type": "stream",
          "text": [
            "Best trial: 25. Best value: 0.056029:  65%|██████▌   | 26/40 [50:57<22:11, 95.09s/it]"
          ]
        },
        {
          "name": "stdout",
          "output_type": "stream",
          "text": [
            "[I 2025-10-24 14:52:43,259] Trial 25 finished with value: 0.05602897589355564 and parameters: {'learning_rate': 0.040002752151151726, 'num_leaves': 113, 'max_depth': 9, 'subsample': 0.6684081700466422, 'colsample_bytree': 0.701508277146874, 'reg_alpha': 0.9197594918346961, 'reg_lambda': 0.3257918770598518, 'min_child_samples': 24}. Best is trial 25 with value: 0.05602897589355564.\n"
          ]
        },
        {
          "name": "stderr",
          "output_type": "stream",
          "text": [
            "Best trial: 25. Best value: 0.056029:  68%|██████▊   | 27/40 [53:32<24:26, 112.82s/it]"
          ]
        },
        {
          "name": "stdout",
          "output_type": "stream",
          "text": [
            "[I 2025-10-24 14:55:17,456] Trial 26 finished with value: 0.056030672347959755 and parameters: {'learning_rate': 0.03850041150691353, 'num_leaves': 114, 'max_depth': 9, 'subsample': 0.6613517035202323, 'colsample_bytree': 0.6953604534658179, 'reg_alpha': 0.8796422349633394, 'reg_lambda': 0.37617297520552934, 'min_child_samples': 24}. Best is trial 25 with value: 0.05602897589355564.\n"
          ]
        },
        {
          "name": "stderr",
          "output_type": "stream",
          "text": [
            "Best trial: 25. Best value: 0.056029:  70%|███████   | 28/40 [56:05<24:59, 124.95s/it]"
          ]
        },
        {
          "name": "stdout",
          "output_type": "stream",
          "text": [
            "[I 2025-10-24 14:57:50,697] Trial 27 finished with value: 0.0560418090886123 and parameters: {'learning_rate': 0.03889162803845919, 'num_leaves': 147, 'max_depth': 8, 'subsample': 0.6297084425228867, 'colsample_bytree': 0.6854853519721053, 'reg_alpha': 0.8640859758000894, 'reg_lambda': 0.39060297142206507, 'min_child_samples': 21}. Best is trial 25 with value: 0.05602897589355564.\n"
          ]
        },
        {
          "name": "stderr",
          "output_type": "stream",
          "text": [
            "Best trial: 25. Best value: 0.056029:  72%|███████▎  | 29/40 [56:05<16:02, 87.53s/it] "
          ]
        },
        {
          "name": "stdout",
          "output_type": "stream",
          "text": [
            "[I 2025-10-24 14:57:50,913] Trial 28 pruned. Trial was pruned at iteration 0.\n"
          ]
        },
        {
          "name": "stderr",
          "output_type": "stream",
          "text": [
            "Best trial: 25. Best value: 0.056029:  75%|███████▌  | 30/40 [56:05<10:13, 61.33s/it]"
          ]
        },
        {
          "name": "stdout",
          "output_type": "stream",
          "text": [
            "[I 2025-10-24 14:57:51,131] Trial 29 pruned. Trial was pruned at iteration 0.\n"
          ]
        },
        {
          "name": "stderr",
          "output_type": "stream",
          "text": [
            "Best trial: 25. Best value: 0.056029:  78%|███████▊  | 31/40 [56:06<06:27, 43.02s/it]"
          ]
        },
        {
          "name": "stdout",
          "output_type": "stream",
          "text": [
            "[I 2025-10-24 14:57:51,409] Trial 30 pruned. Trial was pruned at iteration 10.\n"
          ]
        },
        {
          "name": "stderr",
          "output_type": "stream",
          "text": [
            "Best trial: 25. Best value: 0.056029:  80%|████████  | 32/40 [56:06<04:01, 30.18s/it]"
          ]
        },
        {
          "name": "stdout",
          "output_type": "stream",
          "text": [
            "[I 2025-10-24 14:57:51,621] Trial 31 pruned. Trial was pruned at iteration 0.\n"
          ]
        },
        {
          "name": "stderr",
          "output_type": "stream",
          "text": [
            "Best trial: 25. Best value: 0.056029:  82%|████████▎ | 33/40 [58:35<07:40, 65.74s/it]"
          ]
        },
        {
          "name": "stdout",
          "output_type": "stream",
          "text": [
            "[I 2025-10-24 15:00:20,341] Trial 32 finished with value: 0.05603016540065344 and parameters: {'learning_rate': 0.036169393544115, 'num_leaves': 123, 'max_depth': 9, 'subsample': 0.6216336420647447, 'colsample_bytree': 0.7752851656984499, 'reg_alpha': 0.9334403145505699, 'reg_lambda': 0.28913352926684244, 'min_child_samples': 50}. Best is trial 25 with value: 0.05602897589355564.\n"
          ]
        },
        {
          "name": "stderr",
          "output_type": "stream",
          "text": [
            "Best trial: 25. Best value: 0.056029:  85%|████████▌ | 34/40 [1:01:00<08:57, 89.53s/it]"
          ]
        },
        {
          "name": "stdout",
          "output_type": "stream",
          "text": [
            "[I 2025-10-24 15:02:45,378] Trial 33 finished with value: 0.05603964889763241 and parameters: {'learning_rate': 0.04054779660212286, 'num_leaves': 133, 'max_depth': 8, 'subsample': 0.6180853621014041, 'colsample_bytree': 0.7769261254216253, 'reg_alpha': 0.9417410255950001, 'reg_lambda': 0.36908208996176906, 'min_child_samples': 26}. Best is trial 25 with value: 0.05602897589355564.\n"
          ]
        },
        {
          "name": "stderr",
          "output_type": "stream",
          "text": [
            "Best trial: 34. Best value: 0.0560276:  88%|████████▊ | 35/40 [1:03:28<08:56, 107.34s/it]"
          ]
        },
        {
          "name": "stdout",
          "output_type": "stream",
          "text": [
            "[I 2025-10-24 15:05:14,275] Trial 34 finished with value: 0.05602759947844778 and parameters: {'learning_rate': 0.03479872026720055, 'num_leaves': 118, 'max_depth': 10, 'subsample': 0.6426025025924421, 'colsample_bytree': 0.7432608098344017, 'reg_alpha': 0.8767909203212843, 'reg_lambda': 0.5262760219351779, 'min_child_samples': 41}. Best is trial 34 with value: 0.05602759947844778.\n"
          ]
        },
        {
          "name": "stderr",
          "output_type": "stream",
          "text": [
            "Best trial: 34. Best value: 0.0560276:  90%|█████████ | 36/40 [1:06:24<08:31, 127.75s/it]"
          ]
        },
        {
          "name": "stdout",
          "output_type": "stream",
          "text": [
            "[I 2025-10-24 15:08:09,658] Trial 35 finished with value: 0.05605720808542899 and parameters: {'learning_rate': 0.02787364239524191, 'num_leaves': 159, 'max_depth': 10, 'subsample': 0.6149527224772742, 'colsample_bytree': 0.7920364809529031, 'reg_alpha': 0.5829679815746285, 'reg_lambda': 0.4970145286124586, 'min_child_samples': 56}. Best is trial 34 with value: 0.05602759947844778.\n"
          ]
        },
        {
          "name": "stderr",
          "output_type": "stream",
          "text": [
            "Best trial: 34. Best value: 0.0560276:  92%|█████████▎| 37/40 [1:06:24<04:28, 89.50s/it] "
          ]
        },
        {
          "name": "stdout",
          "output_type": "stream",
          "text": [
            "[I 2025-10-24 15:08:09,895] Trial 36 pruned. Trial was pruned at iteration 0.\n"
          ]
        },
        {
          "name": "stderr",
          "output_type": "stream",
          "text": [
            "Best trial: 34. Best value: 0.0560276:  95%|█████████▌| 38/40 [1:06:24<02:05, 62.71s/it]"
          ]
        },
        {
          "name": "stdout",
          "output_type": "stream",
          "text": [
            "[I 2025-10-24 15:08:10,106] Trial 37 pruned. Trial was pruned at iteration 0.\n"
          ]
        },
        {
          "name": "stderr",
          "output_type": "stream",
          "text": [
            "Best trial: 34. Best value: 0.0560276:  98%|█████████▊| 39/40 [1:08:56<01:29, 89.48s/it]"
          ]
        },
        {
          "name": "stdout",
          "output_type": "stream",
          "text": [
            "[I 2025-10-24 15:10:42,054] Trial 38 finished with value: 0.05603464019148634 and parameters: {'learning_rate': 0.03438020607545529, 'num_leaves': 129, 'max_depth': 10, 'subsample': 0.6140824091961853, 'colsample_bytree': 0.7364709011333962, 'reg_alpha': 0.7499094390599904, 'reg_lambda': 0.7375540239962136, 'min_child_samples': 35}. Best is trial 34 with value: 0.05602759947844778.\n"
          ]
        },
        {
          "name": "stderr",
          "output_type": "stream",
          "text": [
            "Best trial: 34. Best value: 0.0560276: 100%|██████████| 40/40 [1:08:59<00:00, 103.50s/it]"
          ]
        },
        {
          "name": "stdout",
          "output_type": "stream",
          "text": [
            "[I 2025-10-24 15:10:45,136] Trial 39 pruned. Trial was pruned at iteration 462.\n",
            "Best RMSE: 0.05602759947844778\n",
            "Best Params: {'learning_rate': 0.03479872026720055, 'num_leaves': 118, 'max_depth': 10, 'subsample': 0.6426025025924421, 'colsample_bytree': 0.7432608098344017, 'reg_alpha': 0.8767909203212843, 'reg_lambda': 0.5262760219351779, 'min_child_samples': 41}\n"
          ]
        },
        {
          "name": "stderr",
          "output_type": "stream",
          "text": [
            "\n"
          ]
        }
      ],
      "source": [
        "def objective(trial):\n",
        "    params = {\n",
        "        \"n_estimators\": 8000,\n",
        "        \"learning_rate\": trial.suggest_float(\"learning_rate\", 0.005, 0.05, log=True),\n",
        "        \"num_leaves\": trial.suggest_int(\"num_leaves\", 50, 200),\n",
        "        \"max_depth\": trial.suggest_int(\"max_depth\", 4, 10),\n",
        "        \"subsample\": trial.suggest_float(\"subsample\", 0.6, 0.9),\n",
        "        \"colsample_bytree\": trial.suggest_float(\"colsample_bytree\", 0.6, 0.9),\n",
        "        \"reg_alpha\": trial.suggest_float(\"reg_alpha\", 0.0, 1.0),\n",
        "        \"reg_lambda\": trial.suggest_float(\"reg_lambda\", 0.0, 1.0),\n",
        "        \"min_child_samples\": trial.suggest_int(\"min_child_samples\", 20, 200),\n",
        "        \"random_state\": 42,\n",
        "        \"n_jobs\": -1,\n",
        "        \"verbosity\": -1\n",
        "    }\n",
        "\n",
        "    kf = KFold(n_splits=5, shuffle=True, random_state=42)\n",
        "    rmse_scores = []\n",
        "\n",
        "    for train_idx, val_idx in kf.split(X):\n",
        "        X_train, X_val = X.iloc[train_idx], X.iloc[val_idx]\n",
        "        y_train, y_val = y.iloc[train_idx], y.iloc[val_idx]\n",
        "\n",
        "        model = LGBMRegressor(**params)\n",
        "        model.fit(\n",
        "            X_train, y_train,\n",
        "            eval_set=[(X_val, y_val)],\n",
        "            eval_metric=\"rmse\",\n",
        "            callbacks=[optuna.integration.LightGBMPruningCallback(trial, \"rmse\")]\n",
        "        )\n",
        "        preds = model.predict(X_val)\n",
        "        mse = mean_squared_error(y_val, preds)\n",
        "        rmse = np.sqrt(mse)\n",
        "        rmse_scores.append(rmse)\n",
        "        \n",
        "    return np.mean(rmse_scores)\n",
        "\n",
        "study = optuna.create_study(direction=\"minimize\")\n",
        "study.optimize(objective, n_trials=40, show_progress_bar=True)\n",
        "\n",
        "print(\"Best RMSE:\", study.best_value)\n",
        "print(\"Best Params:\", study.best_params)\n",
        "\n",
        "best_params = study.best_params"
      ]
    },
    {
      "cell_type": "code",
      "execution_count": 11,
      "metadata": {},
      "outputs": [],
      "source": [
        "# Set up 8-Fold CV\n",
        "kf = KFold(n_splits=8, shuffle=True, random_state=42)\n",
        "rmse_scores = []\n",
        "test_X = test_cat.drop(columns=['id'])\n",
        "test_preds_all = np.zeros(len(test_X))"
      ]
    },
    {
      "cell_type": "code",
      "execution_count": 12,
      "metadata": {},
      "outputs": [
        {
          "name": "stdout",
          "output_type": "stream",
          "text": [
            "\n",
            "===== Fold 1 / 8 =====\n",
            "Training until validation scores don't improve for 200 rounds\n",
            "Early stopping, best iteration is:\n",
            "[913]\tvalid_0's rmse: 0.0559299\tvalid_0's l2: 0.00312816\n",
            "Fold 1 RMSE: 0.05597\n",
            "\n",
            "===== Fold 2 / 8 =====\n",
            "Training until validation scores don't improve for 200 rounds\n",
            "Early stopping, best iteration is:\n",
            "[1017]\tvalid_0's rmse: 0.0564091\tvalid_0's l2: 0.00318199\n",
            "Fold 2 RMSE: 0.05644\n",
            "\n",
            "===== Fold 3 / 8 =====\n",
            "Training until validation scores don't improve for 200 rounds\n",
            "Early stopping, best iteration is:\n",
            "[1764]\tvalid_0's rmse: 0.056075\tvalid_0's l2: 0.00314441\n",
            "Fold 3 RMSE: 0.05612\n",
            "\n",
            "===== Fold 4 / 8 =====\n",
            "Training until validation scores don't improve for 200 rounds\n",
            "Early stopping, best iteration is:\n",
            "[720]\tvalid_0's rmse: 0.0560881\tvalid_0's l2: 0.00314588\n",
            "Fold 4 RMSE: 0.05613\n",
            "\n",
            "===== Fold 5 / 8 =====\n",
            "Training until validation scores don't improve for 200 rounds\n",
            "Early stopping, best iteration is:\n",
            "[637]\tvalid_0's rmse: 0.0560081\tvalid_0's l2: 0.00313691\n",
            "Fold 5 RMSE: 0.05601\n",
            "\n",
            "===== Fold 6 / 8 =====\n",
            "Training until validation scores don't improve for 200 rounds\n",
            "Early stopping, best iteration is:\n",
            "[637]\tvalid_0's rmse: 0.0559497\tvalid_0's l2: 0.00313037\n",
            "Fold 6 RMSE: 0.05596\n",
            "\n",
            "===== Fold 7 / 8 =====\n",
            "Training until validation scores don't improve for 200 rounds\n",
            "Early stopping, best iteration is:\n",
            "[1200]\tvalid_0's rmse: 0.0557666\tvalid_0's l2: 0.00310992\n",
            "Fold 7 RMSE: 0.05579\n",
            "\n",
            "===== Fold 8 / 8 =====\n",
            "Training until validation scores don't improve for 200 rounds\n",
            "Early stopping, best iteration is:\n",
            "[1092]\tvalid_0's rmse: 0.0558849\tvalid_0's l2: 0.00312312\n",
            "Fold 8 RMSE: 0.05591\n",
            "\n",
            "============================\n",
            "Average RMSE (equal 0.5 blend): 0.05604\n",
            "============================\n"
          ]
        }
      ],
      "source": [
        "# store out-of-fold preds for later alpha tuning\n",
        "oof_lgb = np.zeros(len(X))\n",
        "oof_y = y.values.copy()\n",
        "oof_rf = np.zeros(len(X))\n",
        "\n",
        "for fold, (train_idx, val_idx) in enumerate(kf.split(X)):\n",
        "    print(f\"\\n===== Fold {fold + 1} / {kf.n_splits} =====\")\n",
        "    X_train, X_val = X.iloc[train_idx], X.iloc[val_idx]\n",
        "    y_train, y_val = y.iloc[train_idx], y.iloc[val_idx]\n",
        "\n",
        "    # Align columns\n",
        "    X_val = X_val[X_train.columns]\n",
        "    test_X = test_X[X_train.columns]\n",
        "\n",
        "    # === LightGBM model (tuned) ===\n",
        "    model_lgb = LGBMRegressor(\n",
        "        **study.best_params,\n",
        "        n_estimators=12000,\n",
        "        random_state=42,\n",
        "        n_jobs=-1,\n",
        "        verbosity=-1\n",
        "    )\n",
        "\n",
        "    model_lgb.fit(\n",
        "        X_train, y_train,\n",
        "        eval_set=[(X_val, y_val)],\n",
        "        eval_metric='rmse',\n",
        "        callbacks=[early_stopping(200), log_evaluation(0)]\n",
        "    )\n",
        "    \n",
        "    preds_lgb = model_lgb.predict(X_val)\n",
        "    oof_lgb[val_idx] = preds_lgb\n",
        "\n",
        "    # === Random Forest model ===\n",
        "    # === Prepare numeric data for Random Forest ===\n",
        "    X_train_rf = pd.get_dummies(X_train, drop_first=True)\n",
        "    X_val_rf   = pd.get_dummies(X_val, drop_first=True)\n",
        "\n",
        "    # Align columns (since get_dummies may create mismatched columns)\n",
        "    X_train_rf, X_val_rf = X_train_rf.align(X_val_rf, join='left', axis=1, fill_value=0)\n",
        "\n",
        "    model_rf = RandomForestRegressor(\n",
        "        n_estimators=500,\n",
        "        max_depth=15,\n",
        "        min_samples_leaf=2,\n",
        "        random_state=42,\n",
        "        n_jobs=-1\n",
        "    )\n",
        "    model_rf.fit(X_train_rf, y_train)\n",
        "    preds_rf = model_rf.predict(X_val_rf)\n",
        "    oof_rf[val_idx] = preds_rf\n",
        "\n",
        "    # temporary equal blend for monitoring\n",
        "    val_preds = 0.5 * preds_lgb + 0.5 * preds_rf\n",
        "\n",
        "    rmse = np.sqrt(mean_squared_error(y_val, val_preds))\n",
        "    rmse_scores.append(rmse)\n",
        "    print(f\"Fold {fold + 1} RMSE: {rmse:.5f}\")\n",
        "\n",
        "    # === Predict on test and accumulate (equal blend for now) ===\n",
        "    test_X_rf = pd.get_dummies(test_X, drop_first=True)\n",
        "    test_X_rf = test_X_rf.reindex(columns=X_train_rf.columns, fill_value=0)\n",
        "\n",
        "    test_pred_lgb = model_lgb.predict(test_X)\n",
        "    test_pred_rf = model_rf.predict(test_X_rf)\n",
        "    test_preds_all += (0.5 * test_pred_lgb + 0.5 * test_pred_rf) / kf.n_splits\n",
        "\n",
        "# Display preliminary CV RMSE\n",
        "print(\"\\n============================\")\n",
        "print(f\"Average RMSE (equal 0.5 blend): {np.mean(rmse_scores):.5f}\")\n",
        "print(\"============================\")"
      ]
    },
    {
      "cell_type": "code",
      "execution_count": 13,
      "metadata": {},
      "outputs": [
        {
          "name": "stdout",
          "output_type": "stream",
          "text": [
            "\n",
            "Overall OOF correlation between LGBM and RF: 0.9194\n"
          ]
        },
        {
          "data": {
            "image/png": "[encoded data removed]",
            "text/plain": [
              "<Figure size 600x500 with 1 Axes>"
            ]
          },
          "metadata": {},
          "output_type": "display_data"
        }
      ],
      "source": [
        "overall_corr = np.corrcoef(oof_lgb, oof_rf)[0, 1]\n",
        "print(f\"\\nOverall OOF correlation between LGBM and RF: {overall_corr:.4f}\")\n",
        "\n",
        "plt.figure(figsize=(6, 5))\n",
        "sns.kdeplot(x=oof_lgb, y=oof_rf, fill=True, cmap='viridis')\n",
        "plt.title(f'OOF Prediction Correlation: {overall_corr:.4f}')\n",
        "plt.xlabel('LGBM OOF Predictions')\n",
        "plt.ylabel('RF OOF Predictions')\n",
        "plt.tight_layout()\n",
        "plt.show()"
      ]
    },
    {
      "cell_type": "code",
      "execution_count": 14,
      "metadata": {},
      "outputs": [
        {
          "name": "stderr",
          "output_type": "stream",
          "text": [
            "[I 2025-10-24 15:22:40,396] A new study created in memory with name: no-name-00d209d0-3bd4-4b82-9263-384582f315c1\n",
            "[I 2025-10-24 15:22:40,406] Trial 0 finished with value: 0.05602492035322796 and parameters: {'alpha': 0.5689334479622624}. Best is trial 0 with value: 0.05602492035322796.\n",
            "[I 2025-10-24 15:22:40,414] Trial 1 finished with value: 0.0560027727664099 and parameters: {'alpha': 0.7061133158176806}. Best is trial 1 with value: 0.0560027727664099.\n",
            "[I 2025-10-24 15:22:40,421] Trial 2 finished with value: 0.056011586073821236 and parameters: {'alpha': 0.6379839326955765}. Best is trial 1 with value: 0.0560027727664099.\n",
            "[I 2025-10-24 15:22:40,430] Trial 3 finished with value: 0.056052655290044384 and parameters: {'alpha': 0.46713038816615526}. Best is trial 1 with value: 0.0560027727664099.\n",
            "[I 2025-10-24 15:22:40,438] Trial 4 finished with value: 0.056149141282644276 and parameters: {'alpha': 0.240009989140765}. Best is trial 1 with value: 0.0560027727664099.\n",
            "[I 2025-10-24 15:22:40,446] Trial 5 finished with value: 0.05604954318943779 and parameters: {'alpha': 0.47700732263651946}. Best is trial 1 with value: 0.0560027727664099.\n",
            "[I 2025-10-24 15:22:40,454] Trial 6 finished with value: 0.056002069217983036 and parameters: {'alpha': 0.713580526149757}. Best is trial 6 with value: 0.056002069217983036.\n",
            "[I 2025-10-24 15:22:40,463] Trial 7 finished with value: 0.05618149415641598 and parameters: {'alpha': 0.1818837369128823}. Best is trial 6 with value: 0.056002069217983036.\n",
            "[I 2025-10-24 15:22:40,470] Trial 8 finished with value: 0.05629335277411353 and parameters: {'alpha': 0.01269507568616235}. Best is trial 6 with value: 0.056002069217983036.\n",
            "[I 2025-10-24 15:22:40,479] Trial 9 finished with value: 0.05613266147151899 and parameters: {'alpha': 0.2720075955773332}. Best is trial 6 with value: 0.056002069217983036.\n",
            "[I 2025-10-24 15:22:40,487] Trial 10 finished with value: 0.05600251800740878 and parameters: {'alpha': 0.9135508635195603}. Best is trial 6 with value: 0.056002069217983036.\n",
            "[I 2025-10-24 15:22:40,496] Trial 11 finished with value: 0.056010264385147814 and parameters: {'alpha': 0.9759092040321277}. Best is trial 6 with value: 0.056002069217983036.\n",
            "[I 2025-10-24 15:22:40,505] Trial 12 finished with value: 0.0560007433883226 and parameters: {'alpha': 0.8928180079454467}. Best is trial 12 with value: 0.0560007433883226.\n",
            "[I 2025-10-24 15:22:40,514] Trial 13 finished with value: 0.05599767706319038 and parameters: {'alpha': 0.8024545756823279}. Best is trial 13 with value: 0.05599767706319038.\n",
            "[I 2025-10-24 15:22:40,524] Trial 14 finished with value: 0.05599777701488557 and parameters: {'alpha': 0.8281989544616869}. Best is trial 13 with value: 0.05599767706319038.\n",
            "[I 2025-10-24 15:22:40,532] Trial 15 finished with value: 0.05599774295269982 and parameters: {'alpha': 0.7964102999396023}. Best is trial 13 with value: 0.05599767706319038.\n",
            "[I 2025-10-24 15:22:40,541] Trial 16 finished with value: 0.05599764565859072 and parameters: {'alpha': 0.8083017163590636}. Best is trial 16 with value: 0.05599764565859072.\n",
            "[I 2025-10-24 15:22:40,551] Trial 17 finished with value: 0.05599891511091862 and parameters: {'alpha': 0.7588284944804344}. Best is trial 16 with value: 0.05599764565859072.\n",
            "[I 2025-10-24 15:22:40,559] Trial 18 finished with value: 0.056013838824540564 and parameters: {'alpha': 0.9977877867967957}. Best is trial 16 with value: 0.05599764565859072.\n",
            "[I 2025-10-24 15:22:40,568] Trial 19 finished with value: 0.056084137727573424 and parameters: {'alpha': 0.3797221129176808}. Best is trial 16 with value: 0.05599764565859072.\n",
            "[I 2025-10-24 15:22:40,578] Trial 20 finished with value: 0.05601326012259856 and parameters: {'alpha': 0.6278823657284422}. Best is trial 16 with value: 0.05599764565859072.\n",
            "[I 2025-10-24 15:22:40,586] Trial 21 finished with value: 0.05599764983138588 and parameters: {'alpha': 0.8152878325371314}. Best is trial 16 with value: 0.05599764565859072.\n",
            "[I 2025-10-24 15:22:40,596] Trial 22 finished with value: 0.0559982435849446 and parameters: {'alpha': 0.8471224775775859}. Best is trial 16 with value: 0.05599764565859072.\n",
            "[I 2025-10-24 15:22:40,604] Trial 23 finished with value: 0.056011035397137435 and parameters: {'alpha': 0.6414381342668506}. Best is trial 16 with value: 0.05599764565859072.\n",
            "[I 2025-10-24 15:22:40,614] Trial 24 finished with value: 0.05599926486383744 and parameters: {'alpha': 0.7520772971331526}. Best is trial 16 with value: 0.05599764565859072.\n",
            "[I 2025-10-24 15:22:40,623] Trial 25 finished with value: 0.05600268714328031 and parameters: {'alpha': 0.9153117225452883}. Best is trial 16 with value: 0.05599764565859072.\n",
            "[I 2025-10-24 15:22:40,632] Trial 26 finished with value: 0.05602715612490328 and parameters: {'alpha': 0.5592001294315438}. Best is trial 16 with value: 0.05599764565859072.\n",
            "[I 2025-10-24 15:22:40,642] Trial 27 finished with value: 0.05599916332416008 and parameters: {'alpha': 0.8683500536623019}. Best is trial 16 with value: 0.05599764565859072.\n",
            "[I 2025-10-24 15:22:40,651] Trial 28 finished with value: 0.056006069078716116 and parameters: {'alpha': 0.6765344733726842}. Best is trial 16 with value: 0.05599764565859072.\n",
            "[I 2025-10-24 15:22:40,660] Trial 29 finished with value: 0.055998074347777725 and parameters: {'alpha': 0.7806579350851555}. Best is trial 16 with value: 0.05599764565859072.\n",
            "[I 2025-10-24 15:22:40,669] Trial 30 finished with value: 0.056027557200865406 and parameters: {'alpha': 0.5574935316907865}. Best is trial 16 with value: 0.05599764565859072.\n",
            "[I 2025-10-24 15:22:40,678] Trial 31 finished with value: 0.05599764942310105 and parameters: {'alpha': 0.8071249189204599}. Best is trial 16 with value: 0.05599764565859072.\n",
            "[I 2025-10-24 15:22:40,687] Trial 32 finished with value: 0.056000944445017145 and parameters: {'alpha': 0.7268816821666096}. Best is trial 16 with value: 0.05599764565859072.\n",
            "[I 2025-10-24 15:22:40,697] Trial 33 finished with value: 0.05600457595973868 and parameters: {'alpha': 0.9332632262910968}. Best is trial 16 with value: 0.05599764565859072.\n",
            "[I 2025-10-24 15:22:40,706] Trial 34 finished with value: 0.05599788205791698 and parameters: {'alpha': 0.8338781114113696}. Best is trial 16 with value: 0.05599764565859072.\n",
            "[I 2025-10-24 15:22:40,715] Trial 35 finished with value: 0.056016088996257055 and parameters: {'alpha': 0.6119726693494054}. Best is trial 16 with value: 0.05599764565859072.\n",
            "[I 2025-10-24 15:22:40,725] Trial 36 finished with value: 0.05600515496703106 and parameters: {'alpha': 0.6840456299193275}. Best is trial 16 with value: 0.05599764565859072.\n",
            "[I 2025-10-24 15:22:40,734] Trial 37 finished with value: 0.05599785712472178 and parameters: {'alpha': 0.7896389832951434}. Best is trial 16 with value: 0.05599764565859072.\n",
            "[I 2025-10-24 15:22:40,744] Trial 38 finished with value: 0.05605648737054017 and parameters: {'alpha': 0.455344180529966}. Best is trial 16 with value: 0.05599764565859072.\n",
            "[I 2025-10-24 15:22:40,753] Trial 39 finished with value: 0.05600753814374432 and parameters: {'alpha': 0.9570341619457414}. Best is trial 16 with value: 0.05599764565859072.\n"
          ]
        },
        {
          "name": "stdout",
          "output_type": "stream",
          "text": [
            "✅ Best alpha for blending: 0.8083\n"
          ]
        }
      ],
      "source": [
        "# =====================================================\n",
        "# === Step 2: Tune alpha weight between LGBM & RF ===\n",
        "# =====================================================\n",
        "def objective_alpha(trial):\n",
        "    alpha = trial.suggest_float(\"alpha\", 0.0, 1.0)\n",
        "    blend = alpha * oof_lgb + (1 - alpha) * oof_rf\n",
        "    return np.sqrt(mean_squared_error(oof_y, blend))\n",
        "\n",
        "study_alpha = optuna.create_study(direction=\"minimize\")\n",
        "study_alpha.optimize(objective_alpha, n_trials=40)\n",
        "best_alpha = study_alpha.best_params[\"alpha\"]\n",
        "print(f\"✅ Best alpha for blending: {best_alpha:.4f}\")"
      ]
    },
    {
      "cell_type": "code",
      "execution_count": 15,
      "metadata": {},
      "outputs": [
        {
          "name": "stdout",
          "output_type": "stream",
          "text": [
            "Final blended OOF RMSE: 0.05600\n"
          ]
        }
      ],
      "source": [
        "# =====================================================\n",
        "# === Step 3: Final blending using best alpha ===\n",
        "# =====================================================\n",
        "# recompute CV RMSE using best alpha\n",
        "final_oof = best_alpha * oof_lgb + (1 - best_alpha) * oof_rf\n",
        "final_rmse = np.sqrt(mean_squared_error(oof_y, final_oof))\n",
        "print(f\"Final blended OOF RMSE: {final_rmse:.5f}\")\n",
        "\n",
        "# re-blend test predictions using alpha\n",
        "test_pred_final = best_alpha * test_pred_lgb + (1 - best_alpha) * test_pred_rf"
      ]
    },
    {
      "cell_type": "code",
      "execution_count": 16,
      "metadata": {},
      "outputs": [
        {
          "name": "stdout",
          "output_type": "stream",
          "text": [
            "\n",
            "--- Ridge Regression Meta-Blender ---\n",
            "Ridge-blend OOF RMSE: 0.05600\n",
            "Ridge coefficients (LGBM, RF): [0.81665426 0.18920576]\n",
            "Optuna alpha-blend OOF RMSE: 0.05600\n",
            "✅ Ridge performs slightly better; using Ridge predictions.\n"
          ]
        }
      ],
      "source": [
        "# =====================================================\n",
        "# === Optional Step: Ridge regression meta-blender ===\n",
        "# =====================================================\n",
        "from sklearn.linear_model import RidgeCV\n",
        "\n",
        "print(\"\\n--- Ridge Regression Meta-Blender ---\")\n",
        "\n",
        "meta_X = np.vstack([oof_lgb, oof_rf]).T\n",
        "meta_y = oof_y\n",
        "\n",
        "ridge = RidgeCV(alphas=[1e-4, 1e-3, 1e-2, 1e-1, 1, 10])\n",
        "ridge.fit(meta_X, meta_y)\n",
        "ridge_oof = ridge.predict(meta_X)\n",
        "ridge_rmse = np.sqrt(mean_squared_error(meta_y, ridge_oof))\n",
        "print(f\"Ridge-blend OOF RMSE: {ridge_rmse:.5f}\")\n",
        "print(\"Ridge coefficients (LGBM, RF):\", ridge.coef_)\n",
        "\n",
        "# Predict on test set using same meta model\n",
        "test_meta_X = np.vstack([test_pred_lgb, test_pred_rf]).T\n",
        "test_pred_ridge = ridge.predict(test_meta_X)\n",
        "\n",
        "# Optionally compare with Optuna alpha blend\n",
        "print(f\"Optuna alpha-blend OOF RMSE: {final_rmse:.5f}\")\n",
        "if ridge_rmse < final_rmse:\n",
        "    print(\"✅ Ridge performs slightly better; using Ridge predictions.\")\n",
        "    test_pred_final = test_pred_ridge\n",
        "else:\n",
        "    print(\"ℹ️ Keeping Optuna alpha blend as final.\")"
      ]
    },
    {
      "cell_type": "code",
      "execution_count": 17,
      "metadata": {},
      "outputs": [
        {
          "name": "stdout",
          "output_type": "stream",
          "text": [
            "✅ Saved OOF predictions to oof_lgb_rf.csv\n",
            "✅ Saved test predictions to test_lgb_rf.csv\n"
          ]
        }
      ],
      "source": [
        "# =====================================================\n",
        "# === Step 5: Save OOF and test predictions for stacking ===\n",
        "# =====================================================\n",
        "\n",
        "# Save OOF predictions for meta-learning later\n",
        "oof_df = pd.DataFrame({\n",
        "    'id': train_cat['id'],\n",
        "    'oof_lgb': oof_lgb,\n",
        "    'oof_rf': oof_rf,\n",
        "    'oof_blend': final_oof,   # blended or ridge version\n",
        "    'y_true': oof_y\n",
        "})\n",
        "oof_df.to_csv('oof_lgb_rf.csv', index=False)\n",
        "print(\"✅ Saved OOF predictions to oof_lgb_rf.csv\")\n",
        "\n",
        "# Save test predictions (for later external blending)\n",
        "test_stack_df = pd.DataFrame({\n",
        "    'id': test_cat['id'],\n",
        "    'test_lgb': test_pred_lgb,\n",
        "    'test_rf': test_pred_rf,\n",
        "    'test_blend': test_pred_final\n",
        "})\n",
        "test_stack_df.to_csv('test_lgb_rf.csv', index=False)\n",
        "print(\"✅ Saved test predictions to test_lgb_rf.csv\")"
      ]
    },
    {
      "cell_type": "code",
      "execution_count": 18,
      "metadata": {},
      "outputs": [
        {
          "name": "stdout",
          "output_type": "stream",
          "text": [
            "✅ submission_rfblend.csv ready for Kaggle upload!\n"
          ]
        }
      ],
      "source": [
        "# =====================================================\n",
        "# === Step 4: Save final blended predictions ===\n",
        "# =====================================================\n",
        "\n",
        "# Combine optimized test predictions with baseline offset\n",
        "final_preds = test_pred_final + test[\"y_base\"]\n",
        "\n",
        "submission = pd.DataFrame({\n",
        "    'id': test_cat['id'],\n",
        "    'accident_risk': final_preds\n",
        "})\n",
        "\n",
        "submission.to_csv('submission_rfblend.csv', index=False)\n",
        "print(\"✅ submission_rfblend.csv ready for Kaggle upload!\")"
      ]
    }
  ],
  "metadata": {
    "colab": {
      "provenance": []
    },
    "kernelspec": {
      "display_name": "Python 3",
      "name": "python3"
    },
    "language_info": {
      "codemirror_mode": {
        "name": "ipython",
        "version": 3
      },
      "file_extension": ".py",
      "mimetype": "text/x-python",
      "name": "python",
      "nbconvert_exporter": "python",
      "pygments_lexer": "ipython3",
      "version": "3.13.9"
    }
  },
  "nbformat": 4,
  "nbformat_minor": 0
}
