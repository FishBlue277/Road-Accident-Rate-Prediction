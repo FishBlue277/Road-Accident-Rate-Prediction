{
  "cells": [
    {
      "cell_type": "code",
      "execution_count": 1,
      "metadata": {
        "id": "w99x30GORa-E"
      },
      "outputs": [
        {
          "name": "stderr",
          "output_type": "stream",
          "text": [
            "c:\\Users\\jiahe\\AppData\\Local\\Programs\\Python\\Python313\\Lib\\site-packages\\tqdm\\auto.py:21: TqdmWarning: IProgress not found. Please update jupyter and ipywidgets. See https://ipywidgets.readthedocs.io/en/stable/user_install.html\n",
            "  from .autonotebook import tqdm as notebook_tqdm\n"
          ]
        }
      ],
      "source": [
        "import pandas as pd\n",
        "import matplotlib.pyplot as plt\n",
        "import seaborn as sns\n",
        "import numpy as np\n",
        "from sklearn.model_selection import train_test_split\n",
        "from sklearn.metrics import mean_squared_error\n",
        "from sklearn.model_selection import KFold\n",
        "from lightgbm import LGBMRegressor, early_stopping, log_evaluation, plot_importance\n",
        "from xgboost import XGBRegressor\n",
        "from xgboost.callback import EarlyStopping\n",
        "import warnings\n",
        "import optuna\n",
        "\n",
        "warnings.filterwarnings('ignore')"
      ]
    },
    {
      "cell_type": "code",
      "execution_count": 2,
      "metadata": {
        "colab": {
          "base_uri": "https://localhost:8080/",
          "height": 241
        },
        "id": "ETobP6N-R0jX",
        "outputId": "aefd88a7-d6a4-4810-8803-8a8e95f997ab"
      },
      "outputs": [
        {
          "name": "stdout",
          "output_type": "stream",
          "text": [
            "Train shape: (517754, 14)\n",
            "Test shape: (172585, 13)\n"
          ]
        },
        {
          "data": {
            "text/html": [
              "<div>\n",
              "<style scoped>\n",
              "    .dataframe tbody tr th:only-of-type {\n",
              "        vertical-align: middle;\n",
              "    }\n",
              "\n",
              "    .dataframe tbody tr th {\n",
              "        vertical-align: top;\n",
              "    }\n",
              "\n",
              "    .dataframe thead th {\n",
              "        text-align: right;\n",
              "    }\n",
              "</style>\n",
              "<table border=\"1\" class=\"dataframe\">\n",
              "  <thead>\n",
              "    <tr style=\"text-align: right;\">\n",
              "      <th></th>\n",
              "      <th>id</th>\n",
              "      <th>road_type</th>\n",
              "      <th>num_lanes</th>\n",
              "      <th>curvature</th>\n",
              "      <th>speed_limit</th>\n",
              "      <th>lighting</th>\n",
              "      <th>weather</th>\n",
              "      <th>road_signs_present</th>\n",
              "      <th>public_road</th>\n",
              "      <th>time_of_day</th>\n",
              "      <th>holiday</th>\n",
              "      <th>school_season</th>\n",
              "      <th>num_reported_accidents</th>\n",
              "      <th>accident_risk</th>\n",
              "    </tr>\n",
              "  </thead>\n",
              "  <tbody>\n",
              "    <tr>\n",
              "      <th>0</th>\n",
              "      <td>0</td>\n",
              "      <td>urban</td>\n",
              "      <td>2</td>\n",
              "      <td>0.06</td>\n",
              "      <td>35</td>\n",
              "      <td>daylight</td>\n",
              "      <td>rainy</td>\n",
              "      <td>False</td>\n",
              "      <td>True</td>\n",
              "      <td>afternoon</td>\n",
              "      <td>False</td>\n",
              "      <td>True</td>\n",
              "      <td>1</td>\n",
              "      <td>0.13</td>\n",
              "    </tr>\n",
              "    <tr>\n",
              "      <th>1</th>\n",
              "      <td>1</td>\n",
              "      <td>urban</td>\n",
              "      <td>4</td>\n",
              "      <td>0.99</td>\n",
              "      <td>35</td>\n",
              "      <td>daylight</td>\n",
              "      <td>clear</td>\n",
              "      <td>True</td>\n",
              "      <td>False</td>\n",
              "      <td>evening</td>\n",
              "      <td>True</td>\n",
              "      <td>True</td>\n",
              "      <td>0</td>\n",
              "      <td>0.35</td>\n",
              "    </tr>\n",
              "    <tr>\n",
              "      <th>2</th>\n",
              "      <td>2</td>\n",
              "      <td>rural</td>\n",
              "      <td>4</td>\n",
              "      <td>0.63</td>\n",
              "      <td>70</td>\n",
              "      <td>dim</td>\n",
              "      <td>clear</td>\n",
              "      <td>False</td>\n",
              "      <td>True</td>\n",
              "      <td>morning</td>\n",
              "      <td>True</td>\n",
              "      <td>False</td>\n",
              "      <td>2</td>\n",
              "      <td>0.30</td>\n",
              "    </tr>\n",
              "    <tr>\n",
              "      <th>3</th>\n",
              "      <td>3</td>\n",
              "      <td>highway</td>\n",
              "      <td>4</td>\n",
              "      <td>0.07</td>\n",
              "      <td>35</td>\n",
              "      <td>dim</td>\n",
              "      <td>rainy</td>\n",
              "      <td>True</td>\n",
              "      <td>True</td>\n",
              "      <td>morning</td>\n",
              "      <td>False</td>\n",
              "      <td>False</td>\n",
              "      <td>1</td>\n",
              "      <td>0.21</td>\n",
              "    </tr>\n",
              "    <tr>\n",
              "      <th>4</th>\n",
              "      <td>4</td>\n",
              "      <td>rural</td>\n",
              "      <td>1</td>\n",
              "      <td>0.58</td>\n",
              "      <td>60</td>\n",
              "      <td>daylight</td>\n",
              "      <td>foggy</td>\n",
              "      <td>False</td>\n",
              "      <td>False</td>\n",
              "      <td>evening</td>\n",
              "      <td>True</td>\n",
              "      <td>False</td>\n",
              "      <td>1</td>\n",
              "      <td>0.56</td>\n",
              "    </tr>\n",
              "  </tbody>\n",
              "</table>\n",
              "</div>"
            ],
            "text/plain": [
              "   id road_type  num_lanes  curvature  speed_limit  lighting weather  \\\n",
              "0   0     urban          2       0.06           35  daylight   rainy   \n",
              "1   1     urban          4       0.99           35  daylight   clear   \n",
              "2   2     rural          4       0.63           70       dim   clear   \n",
              "3   3   highway          4       0.07           35       dim   rainy   \n",
              "4   4     rural          1       0.58           60  daylight   foggy   \n",
              "\n",
              "   road_signs_present  public_road time_of_day  holiday  school_season  \\\n",
              "0               False         True   afternoon    False           True   \n",
              "1                True        False     evening     True           True   \n",
              "2               False         True     morning     True          False   \n",
              "3                True         True     morning    False          False   \n",
              "4               False        False     evening     True          False   \n",
              "\n",
              "   num_reported_accidents  accident_risk  \n",
              "0                       1           0.13  \n",
              "1                       0           0.35  \n",
              "2                       2           0.30  \n",
              "3                       1           0.21  \n",
              "4                       1           0.56  "
            ]
          },
          "execution_count": 2,
          "metadata": {},
          "output_type": "execute_result"
        }
      ],
      "source": [
        "test = pd.read_csv(r\"C:\\Users\\jiahe\\OneDrive\\Desktop\\kaggle\\test.csv\")\n",
        "train = pd.read_csv(r\"C:\\Users\\jiahe\\OneDrive\\Desktop\\kaggle\\train.csv\")\n",
        "\n",
        "print(\"Train shape:\", train.shape)\n",
        "print(\"Test shape:\", test.shape)\n",
        "train.head()"
      ]
    },
    {
      "cell_type": "code",
      "execution_count": 3,
      "metadata": {
        "colab": {
          "base_uri": "https://localhost:8080/",
          "height": 398
        },
        "id": "TNAxDkyWSUnL",
        "outputId": "38ada3a0-779a-4365-dac7-06a4b63cff26"
      },
      "outputs": [
        {
          "data": {
            "text/plain": [
              "id                    0\n",
              "road_type             0\n",
              "num_lanes             0\n",
              "curvature             0\n",
              "speed_limit           0\n",
              "lighting              0\n",
              "weather               0\n",
              "road_signs_present    0\n",
              "public_road           0\n",
              "time_of_day           0\n",
              "dtype: int64"
            ]
          },
          "execution_count": 3,
          "metadata": {},
          "output_type": "execute_result"
        }
      ],
      "source": [
        "train.isnull().sum().sort_values(ascending=False).head(10)"
      ]
    },
    {
      "cell_type": "code",
      "execution_count": 4,
      "metadata": {
        "colab": {
          "base_uri": "https://localhost:8080/",
          "height": 410
        },
        "id": "V2Jr5HjoSYPF",
        "outputId": "d569ebb1-6560-46e9-9f92-8cd5598af41d"
      },
      "outputs": [
        {
          "data": {
            "image/png": "[encoded data removed]",
            "text/plain": [
              "<Figure size 600x400 with 1 Axes>"
            ]
          },
          "metadata": {},
          "output_type": "display_data"
        }
      ],
      "source": [
        "plt.figure(figsize=(6,4))\n",
        "sns.histplot(train['accident_risk'], bins=30, kde=True, color='teal')\n",
        "plt.title(\"Distribution of Accident Risk\")\n",
        "plt.xlabel(\"accident_risk\")\n",
        "plt.ylabel(\"Frequency\")\n",
        "plt.show()"
      ]
    },
    {
      "cell_type": "code",
      "execution_count": null,
      "metadata": {
        "colab": {
          "base_uri": "https://localhost:8080/",
          "height": 654
        },
        "id": "hRFd1OnQSrKU",
        "outputId": "457261a9-005c-4f1c-e72c-45ee867178eb"
      },
      "outputs": [],
      "source": [
        "# Identify categorical columns\n",
        "cat_cols = train.select_dtypes(include=['object']).columns\n",
        "print(\"Categorical columns:\", list(cat_cols))\n",
        "\n",
        "# Inspect high-risk weather distribution\n",
        "high_risk = train[train['accident_risk'] > 0.8]\n",
        "print(\"\\nWeather distribution among high-risk accidents:\")\n",
        "print(high_risk['weather'].value_counts(normalize=True))\n",
        "\n",
        "# Boxplot: Accident risk by weather condition\n",
        "plt.figure(figsize=(8,4))\n",
        "sns.boxplot(x='weather', y='accident_risk', data=train, palette='pastel')\n",
        "plt.title(\"Accident Risk by Weather Condition\")\n",
        "plt.xlabel(\"Weather\")\n",
        "plt.ylabel(\"Accident Risk\")\n",
        "plt.xticks(rotation=30)\n",
        "plt.show()"
      ]
    },
    {
      "cell_type": "code",
      "execution_count": null,
      "metadata": {
        "colab": {
          "base_uri": "https://localhost:8080/",
          "height": 699
        },
        "id": "cS4vf8y6TBBZ",
        "outputId": "95fa6100-4413-4a6b-ac39-091bcbe527b7"
      },
      "outputs": [],
      "source": [
        "num_cols = train.select_dtypes(include=['int64', 'float64']).columns.drop(['id', 'accident_risk'])\n",
        "train[num_cols].describe()\n",
        "\n",
        "plt.figure(figsize=(10,8))\n",
        "mask = np.triu(np.ones_like(train[num_cols].corr(), dtype=bool))\n",
        "sns.heatmap(train[num_cols].corr(), mask=mask, annot=True, cmap='coolwarm')\n",
        "plt.title(\"Correlation Heatmap\")\n",
        "plt.show()"
      ]
    },
    {
      "cell_type": "code",
      "execution_count": null,
      "metadata": {
        "colab": {
          "base_uri": "https://localhost:8080/",
          "height": 497
        },
        "id": "FitRhRUwWg9j",
        "outputId": "f184dfe0-7a7a-449e-f2be-3a7293adf173"
      },
      "outputs": [],
      "source": [
        "plt.figure(figsize=(7,4))\n",
        "sns.boxplot(x='time_of_day', y='accident_risk', data=train, order=['morning','afternoon','evening'])\n",
        "plt.title(\"Accident Risk by Time of Day\")\n",
        "plt.xlabel(\"Time of Day\")\n",
        "plt.ylabel(\"Accident Risk\")\n",
        "plt.show()\n",
        "\n",
        "# if you want average risk per time bucket:\n",
        "mean_risk_by_time = train.groupby('time_of_day')['accident_risk'].mean().sort_values()\n",
        "print(mean_risk_by_time)"
      ]
    },
    {
      "cell_type": "code",
      "execution_count": null,
      "metadata": {
        "colab": {
          "base_uri": "https://localhost:8080/",
          "height": 626
        },
        "id": "VbtdAp2LYecf",
        "outputId": "ef17f079-6fa7-48df-f63c-ba2af221b920"
      },
      "outputs": [],
      "source": [
        "# Select only numeric columns (exclude id and target)\n",
        "num_cols = train.select_dtypes(include=['int64', 'float64']).columns.drop(['id', 'accident_risk'])\n",
        "\n",
        "# Compute correlation of each numeric column with the target\n",
        "corrs = train[num_cols].corrwith(train['accident_risk']).sort_values(ascending=False)\n",
        "\n",
        "# Display top correlations\n",
        "print(\"\\nTop numeric features correlated with accident_risk:\\n\")\n",
        "print(corrs)\n",
        "\n",
        "# Plot the top 10 for clarity\n",
        "plt.figure(figsize=(7,5))\n",
        "corrs.head(10).plot(kind='barh', color='teal')\n",
        "plt.title(\"Top 10 Numeric Features Correlated with Accident Risk\")\n",
        "plt.xlabel(\"Correlation Coefficient\")\n",
        "plt.gca().invert_yaxis()\n",
        "plt.show()"
      ]
    },
    {
      "cell_type": "code",
      "execution_count": null,
      "metadata": {
        "colab": {
          "base_uri": "https://localhost:8080/",
          "height": 1000
        },
        "id": "BeKouxz6Yjuo",
        "outputId": "28356c9b-b860-4f4f-b576-bdaae9489744"
      },
      "outputs": [],
      "source": [
        "# numeric columns except id/target\n",
        "num_cols = ['num_lanes', 'curvature', 'speed_limit', 'num_reported_accidents']\n",
        "\n",
        "for col in num_cols:\n",
        "    plt.figure(figsize=(6,3))\n",
        "    sns.boxplot(x=train[col], color='lightblue')\n",
        "    plt.title(f\"Outlier Check: {col}\")\n",
        "    plt.show()\n",
        "\n",
        "    # quick stats summary\n",
        "    print(f\"{col} - min: {train[col].min():.2f}, 99th percentile: {train[col].quantile(0.99):.2f}, max: {train[col].max():.2f}\")"
      ]
    },
    {
      "cell_type": "code",
      "execution_count": null,
      "metadata": {
        "colab": {
          "base_uri": "https://localhost:8080/",
          "height": 1000
        },
        "id": "Bp0U1LrmY_t6",
        "outputId": "90c47688-9ec2-472a-fd1e-52862252f936"
      },
      "outputs": [],
      "source": [
        "num_cols = ['num_lanes', 'curvature', 'speed_limit', 'num_reported_accidents']\n",
        "\n",
        "for col in num_cols:\n",
        "    plt.figure(figsize=(6,4))\n",
        "    sns.kdeplot(train[col], label='train', fill=True, common_norm=False)\n",
        "    sns.kdeplot(test[col], label='test', fill=True, common_norm=False)\n",
        "    plt.title(f\"Train vs Test Distribution: {col}\")\n",
        "    plt.legend()\n",
        "    plt.show()"
      ]
    },
    {
      "cell_type": "code",
      "execution_count": 5,
      "metadata": {},
      "outputs": [],
      "source": [
        "train_cat = train.copy()\n",
        "test_cat = test.copy()\n",
        "\n",
        "cat_cols = ['road_type', 'lighting', 'weather', 'time_of_day']\n",
        "\n",
        "for col in cat_cols:\n",
        "    categories = pd.Categorical(pd.concat([train_cat[col], test_cat[col]], axis=0)).categories\n",
        "    train_cat[col] = pd.Categorical(train_cat[col], categories=categories)\n",
        "    test_cat[col] = pd.Categorical(test_cat[col], categories=categories)"
      ]
    },
    {
      "cell_type": "code",
      "execution_count": 6,
      "metadata": {},
      "outputs": [
        {
          "name": "stdout",
          "output_type": "stream",
          "text": [
            "Target encoding: road_type\n",
            "Target encoding: lighting\n",
            "Target encoding: weather\n",
            "Target encoding: time_of_day\n"
          ]
        }
      ],
      "source": [
        "# List of categorical columns to target encode\n",
        "target_encode_cols = ['road_type', 'lighting', 'weather', 'time_of_day']\n",
        "\n",
        "# Initialize KFold for target encoding\n",
        "kf = KFold(n_splits=5, shuffle=True, random_state=42)\n",
        "encoded_features = pd.DataFrame(index=train.index)\n",
        "\n",
        "for col in target_encode_cols:\n",
        "    print(f\"Target encoding: {col}\")\n",
        "    oof = pd.Series(np.nan, index=train.index)\n",
        "\n",
        "    # Create out-of-fold mean for each category\n",
        "    for train_idx, val_idx in kf.split(train):\n",
        "        means = train.iloc[train_idx].groupby(col)['accident_risk'].mean()\n",
        "        oof.iloc[val_idx] = train.iloc[val_idx][col].astype(str).map(means)\n",
        "\n",
        "\n",
        "    encoded_features[col + '_te'] = oof\n",
        "\n",
        "# Add encoded features to train\n",
        "train = pd.concat([train, encoded_features], axis=1)\n",
        "\n",
        "# Apply same encoding (using full-train mean) to test\n",
        "for col in target_encode_cols:\n",
        "    global_mean = train.groupby(col)['accident_risk'].mean()\n",
        "    test[col + '_te'] = test[col].astype(str).map(global_mean)"
      ]
    },
    {
      "cell_type": "code",
      "execution_count": 7,
      "metadata": {},
      "outputs": [],
      "source": [
        "X = train_cat.drop(columns=['id', 'accident_risk'])\n",
        "y = train_cat['accident_risk']\n",
        "X_train, X_val, y_train, y_val = train_test_split(X, y, test_size=0.2, random_state=42)"
      ]
    },
    {
      "cell_type": "code",
      "execution_count": 8,
      "metadata": {},
      "outputs": [
        {
          "name": "stdout",
          "output_type": "stream",
          "text": [
            "[LightGBM] [Info] Auto-choosing row-wise multi-threading, the overhead of testing was 0.004272 seconds.\n",
            "You can set `force_row_wise=true` to remove the overhead.\n",
            "And if memory is not enough, you can set `force_col_wise=true`.\n",
            "[LightGBM] [Info] Total Bins 171\n",
            "[LightGBM] [Info] Number of data points in the train set: 414203, number of used features: 12\n",
            "[LightGBM] [Info] Start training from score 0.352605\n",
            "Training until validation scores don't improve for 100 rounds\n",
            "Did not meet early stopping. Best iteration is:\n",
            "[997]\tvalid_0's rmse: 0.0562706\tvalid_0's l2: 0.00316638\n",
            "Selected 12 / 12 features\n"
          ]
        }
      ],
      "source": [
        "model_fs = LGBMRegressor(\n",
        "    n_estimators=1000,\n",
        "    learning_rate=0.03,\n",
        "    subsample=0.8,\n",
        "    colsample_bytree=0.8,\n",
        "    random_state=42\n",
        ")\n",
        "\n",
        "model_fs.fit(\n",
        "    X_train, y_train,\n",
        "    eval_set=[(X_val, y_val)],\n",
        "    eval_metric='rmse',\n",
        "    callbacks=[early_stopping(100)]\n",
        ")\n",
        "\n",
        "# Compute feature importance\n",
        "importance_df = pd.DataFrame({\n",
        "    'feature': X.columns,\n",
        "    'gain': model_fs.booster_.feature_importance(importance_type='gain')\n",
        "}).sort_values('gain', ascending=False)\n",
        "\n",
        "# Filter weak features\n",
        "threshold = importance_df['gain'].median() * 0.1  # keep features above 10% of median gain\n",
        "selected_features = importance_df.query('gain > @threshold')['feature'].tolist()\n",
        "\n",
        "print(f\"Selected {len(selected_features)} / {len(X.columns)} features\")\n",
        "\n",
        "# Reduce the dataset to selected features\n",
        "X = X[selected_features]\n",
        "test_X = test_cat[selected_features]"
      ]
    },
    {
      "cell_type": "code",
      "execution_count": 9,
      "metadata": {},
      "outputs": [
        {
          "name": "stderr",
          "output_type": "stream",
          "text": [
            "[I 2025-10-21 11:38:50,025] A new study created in memory with name: no-name-29f8f882-5fa0-473c-8f54-f4e45ea9698a\n",
            "Best trial: 0. Best value: 0.0560782:   2%|▎         | 1/40 [04:09<2:42:09, 249.47s/it]"
          ]
        },
        {
          "name": "stdout",
          "output_type": "stream",
          "text": [
            "[I 2025-10-21 11:42:59,485] Trial 0 finished with value: 0.056078162525734845 and parameters: {'learning_rate': 0.005560138318903602, 'num_leaves': 168, 'max_depth': 10, 'subsample': 0.8612568323499717, 'colsample_bytree': 0.6173913627297224, 'reg_alpha': 0.6935791577063481, 'reg_lambda': 0.3899200537641332, 'min_child_samples': 167}. Best is trial 0 with value: 0.056078162525734845.\n"
          ]
        },
        {
          "name": "stderr",
          "output_type": "stream",
          "text": [
            "Best trial: 1. Best value: 0.0560762:   5%|▌         | 2/40 [05:59<1:45:52, 167.17s/it]"
          ]
        },
        {
          "name": "stdout",
          "output_type": "stream",
          "text": [
            "[I 2025-10-21 11:44:49,044] Trial 1 finished with value: 0.05607616440212605 and parameters: {'learning_rate': 0.012461319813908984, 'num_leaves': 159, 'max_depth': 9, 'subsample': 0.709756400551474, 'colsample_bytree': 0.7916434549454494, 'reg_alpha': 0.7493525336967382, 'reg_lambda': 0.22084587740006323, 'min_child_samples': 161}. Best is trial 1 with value: 0.05607616440212605.\n"
          ]
        },
        {
          "name": "stderr",
          "output_type": "stream",
          "text": [
            "Best trial: 1. Best value: 0.0560762:   8%|▊         | 3/40 [07:43<1:25:26, 138.55s/it]"
          ]
        },
        {
          "name": "stdout",
          "output_type": "stream",
          "text": [
            "[I 2025-10-21 11:46:33,534] Trial 2 finished with value: 0.056182934085867366 and parameters: {'learning_rate': 0.038042965232379926, 'num_leaves': 67, 'max_depth': 4, 'subsample': 0.6945145601788997, 'colsample_bytree': 0.6880762483670814, 'reg_alpha': 0.3442223525909487, 'reg_lambda': 0.7610410921999445, 'min_child_samples': 92}. Best is trial 1 with value: 0.05607616440212605.\n"
          ]
        },
        {
          "name": "stderr",
          "output_type": "stream",
          "text": [
            "Best trial: 3. Best value: 0.0560317:  10%|█         | 4/40 [09:05<1:09:39, 116.11s/it]"
          ]
        },
        {
          "name": "stdout",
          "output_type": "stream",
          "text": [
            "[I 2025-10-21 11:47:55,240] Trial 3 finished with value: 0.05603169204752214 and parameters: {'learning_rate': 0.021641505628742737, 'num_leaves': 186, 'max_depth': 10, 'subsample': 0.7246836163613158, 'colsample_bytree': 0.7496822900577432, 'reg_alpha': 0.6479738901840086, 'reg_lambda': 0.2456161223218749, 'min_child_samples': 24}. Best is trial 3 with value: 0.05603169204752214.\n"
          ]
        },
        {
          "name": "stderr",
          "output_type": "stream",
          "text": [
            "Best trial: 3. Best value: 0.0560317:  12%|█▎        | 5/40 [10:07<56:27, 96.79s/it]   "
          ]
        },
        {
          "name": "stdout",
          "output_type": "stream",
          "text": [
            "[I 2025-10-21 11:48:57,772] Trial 4 finished with value: 0.05605533045997289 and parameters: {'learning_rate': 0.032373949268840824, 'num_leaves': 120, 'max_depth': 10, 'subsample': 0.6057076551003502, 'colsample_bytree': 0.6348321375876395, 'reg_alpha': 0.9823618196360397, 'reg_lambda': 0.20985463628788303, 'min_child_samples': 52}. Best is trial 3 with value: 0.05603169204752214.\n"
          ]
        },
        {
          "name": "stderr",
          "output_type": "stream",
          "text": [
            "Best trial: 3. Best value: 0.0560317:  15%|█▌        | 6/40 [10:07<36:14, 63.95s/it]"
          ]
        },
        {
          "name": "stdout",
          "output_type": "stream",
          "text": [
            "[I 2025-10-21 11:48:57,976] Trial 5 pruned. Trial was pruned at iteration 0.\n"
          ]
        },
        {
          "name": "stderr",
          "output_type": "stream",
          "text": [
            "Best trial: 3. Best value: 0.0560317:  18%|█▊        | 7/40 [10:08<23:44, 43.17s/it]"
          ]
        },
        {
          "name": "stdout",
          "output_type": "stream",
          "text": [
            "[I 2025-10-21 11:48:58,353] Trial 6 pruned. Trial was pruned at iteration 45.\n"
          ]
        },
        {
          "name": "stderr",
          "output_type": "stream",
          "text": [
            "Best trial: 3. Best value: 0.0560317:  20%|██        | 8/40 [10:08<15:43, 29.49s/it]"
          ]
        },
        {
          "name": "stdout",
          "output_type": "stream",
          "text": [
            "[I 2025-10-21 11:48:58,561] Trial 7 pruned. Trial was pruned at iteration 0.\n"
          ]
        },
        {
          "name": "stderr",
          "output_type": "stream",
          "text": [
            "Best trial: 3. Best value: 0.0560317:  22%|██▎       | 9/40 [10:12<11:06, 21.51s/it]"
          ]
        },
        {
          "name": "stdout",
          "output_type": "stream",
          "text": [
            "[I 2025-10-21 11:49:02,518] Trial 8 pruned. Trial was pruned at iteration 914.\n"
          ]
        },
        {
          "name": "stderr",
          "output_type": "stream",
          "text": [
            "Best trial: 3. Best value: 0.0560317:  25%|██▌       | 10/40 [10:12<07:28, 14.94s/it]"
          ]
        },
        {
          "name": "stdout",
          "output_type": "stream",
          "text": [
            "[I 2025-10-21 11:49:02,734] Trial 9 pruned. Trial was pruned at iteration 0.\n"
          ]
        },
        {
          "name": "stderr",
          "output_type": "stream",
          "text": [
            "Best trial: 3. Best value: 0.0560317:  28%|██▊       | 11/40 [10:12<05:02, 10.44s/it]"
          ]
        },
        {
          "name": "stdout",
          "output_type": "stream",
          "text": [
            "[I 2025-10-21 11:49:02,965] Trial 10 pruned. Trial was pruned at iteration 0.\n"
          ]
        },
        {
          "name": "stderr",
          "output_type": "stream",
          "text": [
            "Best trial: 3. Best value: 0.0560317:  30%|███       | 12/40 [10:13<03:25,  7.33s/it]"
          ]
        },
        {
          "name": "stdout",
          "output_type": "stream",
          "text": [
            "[I 2025-10-21 11:49:03,188] Trial 11 pruned. Trial was pruned at iteration 0.\n"
          ]
        },
        {
          "name": "stderr",
          "output_type": "stream",
          "text": [
            "Best trial: 3. Best value: 0.0560317:  32%|███▎      | 13/40 [12:35<21:39, 48.14s/it]"
          ]
        },
        {
          "name": "stdout",
          "output_type": "stream",
          "text": [
            "[I 2025-10-21 11:51:25,236] Trial 12 finished with value: 0.05605475575000931 and parameters: {'learning_rate': 0.03036411612598568, 'num_leaves': 96, 'max_depth': 8, 'subsample': 0.6493933809284756, 'colsample_bytree': 0.6542165167727897, 'reg_alpha': 0.8613051869403671, 'reg_lambda': 0.5137566896104666, 'min_child_samples': 20}. Best is trial 3 with value: 0.05603169204752214.\n"
          ]
        },
        {
          "name": "stderr",
          "output_type": "stream",
          "text": [
            "Best trial: 3. Best value: 0.0560317:  35%|███▌      | 14/40 [12:39<15:06, 34.85s/it]"
          ]
        },
        {
          "name": "stdout",
          "output_type": "stream",
          "text": [
            "[I 2025-10-21 11:51:29,371] Trial 13 pruned. Trial was pruned at iteration 1238.\n"
          ]
        },
        {
          "name": "stderr",
          "output_type": "stream",
          "text": [
            "Best trial: 3. Best value: 0.0560317:  38%|███▊      | 15/40 [12:39<10:10, 24.41s/it]"
          ]
        },
        {
          "name": "stdout",
          "output_type": "stream",
          "text": [
            "[I 2025-10-21 11:51:29,602] Trial 14 pruned. Trial was pruned at iteration 0.\n"
          ]
        },
        {
          "name": "stderr",
          "output_type": "stream",
          "text": [
            "Best trial: 3. Best value: 0.0560317:  40%|████      | 16/40 [12:42<07:07, 17.80s/it]"
          ]
        },
        {
          "name": "stdout",
          "output_type": "stream",
          "text": [
            "[I 2025-10-21 11:51:32,033] Trial 15 pruned. Trial was pruned at iteration 484.\n"
          ]
        },
        {
          "name": "stderr",
          "output_type": "stream",
          "text": [
            "Best trial: 3. Best value: 0.0560317:  42%|████▎     | 17/40 [12:42<04:47, 12.51s/it]"
          ]
        },
        {
          "name": "stdout",
          "output_type": "stream",
          "text": [
            "[I 2025-10-21 11:51:32,248] Trial 16 pruned. Trial was pruned at iteration 0.\n"
          ]
        },
        {
          "name": "stderr",
          "output_type": "stream",
          "text": [
            "Best trial: 3. Best value: 0.0560317:  45%|████▌     | 18/40 [12:42<03:14,  8.82s/it]"
          ]
        },
        {
          "name": "stdout",
          "output_type": "stream",
          "text": [
            "[I 2025-10-21 11:51:32,482] Trial 17 pruned. Trial was pruned at iteration 0.\n"
          ]
        },
        {
          "name": "stderr",
          "output_type": "stream",
          "text": [
            "Best trial: 3. Best value: 0.0560317:  48%|████▊     | 19/40 [12:42<02:10,  6.24s/it]"
          ]
        },
        {
          "name": "stdout",
          "output_type": "stream",
          "text": [
            "[I 2025-10-21 11:51:32,697] Trial 18 pruned. Trial was pruned at iteration 0.\n"
          ]
        },
        {
          "name": "stderr",
          "output_type": "stream",
          "text": [
            "Best trial: 3. Best value: 0.0560317:  50%|█████     | 20/40 [15:29<18:09, 54.50s/it]"
          ]
        },
        {
          "name": "stdout",
          "output_type": "stream",
          "text": [
            "[I 2025-10-21 11:54:19,678] Trial 19 finished with value: 0.056083112883613104 and parameters: {'learning_rate': 0.035244855674321625, 'num_leaves': 130, 'max_depth': 7, 'subsample': 0.6392088895602704, 'colsample_bytree': 0.6444247118348346, 'reg_alpha': 0.3029183790165588, 'reg_lambda': 0.44307255151536123, 'min_child_samples': 20}. Best is trial 3 with value: 0.05603169204752214.\n"
          ]
        },
        {
          "name": "stderr",
          "output_type": "stream",
          "text": [
            "Best trial: 3. Best value: 0.0560317:  52%|█████▎    | 21/40 [15:29<12:05, 38.20s/it]"
          ]
        },
        {
          "name": "stdout",
          "output_type": "stream",
          "text": [
            "[I 2025-10-21 11:54:19,888] Trial 20 pruned. Trial was pruned at iteration 0.\n"
          ]
        },
        {
          "name": "stderr",
          "output_type": "stream",
          "text": [
            "Best trial: 3. Best value: 0.0560317:  55%|█████▌    | 22/40 [17:54<21:03, 70.17s/it]"
          ]
        },
        {
          "name": "stdout",
          "output_type": "stream",
          "text": [
            "[I 2025-10-21 11:56:44,618] Trial 21 finished with value: 0.0560577885375401 and parameters: {'learning_rate': 0.03252939166475381, 'num_leaves': 116, 'max_depth': 9, 'subsample': 0.6277860418242281, 'colsample_bytree': 0.6367943210759005, 'reg_alpha': 0.9088738038498237, 'reg_lambda': 0.25646223021723646, 'min_child_samples': 52}. Best is trial 3 with value: 0.05603169204752214.\n"
          ]
        },
        {
          "name": "stderr",
          "output_type": "stream",
          "text": [
            "Best trial: 3. Best value: 0.0560317:  57%|█████▊    | 23/40 [17:54<13:56, 49.19s/it]"
          ]
        },
        {
          "name": "stdout",
          "output_type": "stream",
          "text": [
            "[I 2025-10-21 11:56:44,848] Trial 22 pruned. Trial was pruned at iteration 0.\n"
          ]
        },
        {
          "name": "stderr",
          "output_type": "stream",
          "text": [
            "Best trial: 3. Best value: 0.0560317:  60%|██████    | 24/40 [17:55<09:12, 34.50s/it]"
          ]
        },
        {
          "name": "stdout",
          "output_type": "stream",
          "text": [
            "[I 2025-10-21 11:56:45,093] Trial 23 pruned. Trial was pruned at iteration 0.\n"
          ]
        },
        {
          "name": "stderr",
          "output_type": "stream",
          "text": [
            "Best trial: 3. Best value: 0.0560317:  62%|██████▎   | 25/40 [17:57<06:12, 24.85s/it]"
          ]
        },
        {
          "name": "stdout",
          "output_type": "stream",
          "text": [
            "[I 2025-10-21 11:56:47,418] Trial 24 pruned. Trial was pruned at iteration 313.\n"
          ]
        },
        {
          "name": "stderr",
          "output_type": "stream",
          "text": [
            "Best trial: 3. Best value: 0.0560317:  65%|██████▌   | 26/40 [20:08<13:15, 56.80s/it]"
          ]
        },
        {
          "name": "stdout",
          "output_type": "stream",
          "text": [
            "[I 2025-10-21 11:58:58,777] Trial 25 finished with value: 0.05605103386400484 and parameters: {'learning_rate': 0.049738635642229016, 'num_leaves': 121, 'max_depth': 10, 'subsample': 0.6777576599926012, 'colsample_bytree': 0.672796478505418, 'reg_alpha': 0.7742206788800655, 'reg_lambda': 0.47498937499782046, 'min_child_samples': 31}. Best is trial 3 with value: 0.05603169204752214.\n"
          ]
        },
        {
          "name": "stderr",
          "output_type": "stream",
          "text": [
            "Best trial: 3. Best value: 0.0560317:  68%|██████▊   | 27/40 [22:26<17:35, 81.19s/it]"
          ]
        },
        {
          "name": "stdout",
          "output_type": "stream",
          "text": [
            "[I 2025-10-21 12:01:16,880] Trial 26 finished with value: 0.056048967130232254 and parameters: {'learning_rate': 0.049846181926191196, 'num_leaves': 144, 'max_depth': 9, 'subsample': 0.6827607839545884, 'colsample_bytree': 0.666623983521703, 'reg_alpha': 0.7889078150047633, 'reg_lambda': 0.46043525035426947, 'min_child_samples': 29}. Best is trial 3 with value: 0.05603169204752214.\n"
          ]
        },
        {
          "name": "stderr",
          "output_type": "stream",
          "text": [
            "Best trial: 3. Best value: 0.0560317:  70%|███████   | 28/40 [24:45<19:39, 98.30s/it]"
          ]
        },
        {
          "name": "stdout",
          "output_type": "stream",
          "text": [
            "[I 2025-10-21 12:03:35,106] Trial 27 finished with value: 0.05605105776139596 and parameters: {'learning_rate': 0.04865871442758174, 'num_leaves': 163, 'max_depth': 10, 'subsample': 0.7173208380293526, 'colsample_bytree': 0.6758032080754431, 'reg_alpha': 0.7579575392758088, 'reg_lambda': 0.44095149867067407, 'min_child_samples': 35}. Best is trial 3 with value: 0.05603169204752214.\n"
          ]
        },
        {
          "name": "stderr",
          "output_type": "stream",
          "text": [
            "Best trial: 3. Best value: 0.0560317:  72%|███████▎  | 29/40 [26:58<19:58, 108.92s/it]"
          ]
        },
        {
          "name": "stdout",
          "output_type": "stream",
          "text": [
            "[I 2025-10-21 12:05:48,796] Trial 28 finished with value: 0.05606634726125624 and parameters: {'learning_rate': 0.04144553925503343, 'num_leaves': 181, 'max_depth': 9, 'subsample': 0.7608244162312476, 'colsample_bytree': 0.7261210704179554, 'reg_alpha': 0.6124386085666995, 'reg_lambda': 0.4360839043019321, 'min_child_samples': 131}. Best is trial 3 with value: 0.05603169204752214.\n"
          ]
        },
        {
          "name": "stderr",
          "output_type": "stream",
          "text": [
            "Best trial: 3. Best value: 0.0560317:  75%|███████▌  | 30/40 [26:59<12:43, 76.31s/it] "
          ]
        },
        {
          "name": "stdout",
          "output_type": "stream",
          "text": [
            "[I 2025-10-21 12:05:49,015] Trial 29 pruned. Trial was pruned at iteration 0.\n"
          ]
        },
        {
          "name": "stderr",
          "output_type": "stream",
          "text": [
            "Best trial: 3. Best value: 0.0560317:  78%|███████▊  | 31/40 [26:59<08:01, 53.50s/it]"
          ]
        },
        {
          "name": "stdout",
          "output_type": "stream",
          "text": [
            "[I 2025-10-21 12:05:49,278] Trial 30 pruned. Trial was pruned at iteration 0.\n"
          ]
        },
        {
          "name": "stderr",
          "output_type": "stream",
          "text": [
            "Best trial: 3. Best value: 0.0560317:  80%|████████  | 32/40 [29:14<10:24, 78.02s/it]"
          ]
        },
        {
          "name": "stdout",
          "output_type": "stream",
          "text": [
            "[I 2025-10-21 12:08:04,510] Trial 31 finished with value: 0.05605106783507097 and parameters: {'learning_rate': 0.049692240338238526, 'num_leaves': 164, 'max_depth': 10, 'subsample': 0.7208064054610586, 'colsample_bytree': 0.671033537266821, 'reg_alpha': 0.6686605609406404, 'reg_lambda': 0.45285254584779544, 'min_child_samples': 34}. Best is trial 3 with value: 0.05603169204752214.\n"
          ]
        },
        {
          "name": "stderr",
          "output_type": "stream",
          "text": [
            "Best trial: 3. Best value: 0.0560317:  82%|████████▎ | 33/40 [31:30<11:08, 95.53s/it]"
          ]
        },
        {
          "name": "stdout",
          "output_type": "stream",
          "text": [
            "[I 2025-10-21 12:10:20,901] Trial 32 finished with value: 0.056049517339009904 and parameters: {'learning_rate': 0.04944461401840763, 'num_leaves': 168, 'max_depth': 10, 'subsample': 0.7045808158507474, 'colsample_bytree': 0.681372173412617, 'reg_alpha': 0.7446150334045684, 'reg_lambda': 0.595284150089666, 'min_child_samples': 30}. Best is trial 3 with value: 0.05603169204752214.\n"
          ]
        },
        {
          "name": "stderr",
          "output_type": "stream",
          "text": [
            "Best trial: 3. Best value: 0.0560317:  85%|████████▌ | 34/40 [33:49<10:50, 108.37s/it]"
          ]
        },
        {
          "name": "stdout",
          "output_type": "stream",
          "text": [
            "[I 2025-10-21 12:12:39,214] Trial 33 finished with value: 0.05604938724881037 and parameters: {'learning_rate': 0.037679565602924056, 'num_leaves': 199, 'max_depth': 10, 'subsample': 0.6991268598261368, 'colsample_bytree': 0.697964878243766, 'reg_alpha': 0.7675884916563791, 'reg_lambda': 0.594179452138483, 'min_child_samples': 50}. Best is trial 3 with value: 0.05603169204752214.\n"
          ]
        },
        {
          "name": "stderr",
          "output_type": "stream",
          "text": [
            "Best trial: 3. Best value: 0.0560317:  88%|████████▊ | 35/40 [36:11<09:52, 118.49s/it]"
          ]
        },
        {
          "name": "stdout",
          "output_type": "stream",
          "text": [
            "[I 2025-10-21 12:15:01,328] Trial 34 finished with value: 0.05604639033049954 and parameters: {'learning_rate': 0.03734669879227801, 'num_leaves': 198, 'max_depth': 10, 'subsample': 0.6987373345406391, 'colsample_bytree': 0.6922772070305238, 'reg_alpha': 0.6695093804160583, 'reg_lambda': 0.6197316164430215, 'min_child_samples': 49}. Best is trial 3 with value: 0.05603169204752214.\n"
          ]
        },
        {
          "name": "stderr",
          "output_type": "stream",
          "text": [
            "Best trial: 3. Best value: 0.0560317:  90%|█████████ | 36/40 [38:46<08:38, 129.59s/it]"
          ]
        },
        {
          "name": "stdout",
          "output_type": "stream",
          "text": [
            "[I 2025-10-21 12:17:36,823] Trial 35 finished with value: 0.05604805919777779 and parameters: {'learning_rate': 0.03744669862783953, 'num_leaves': 200, 'max_depth': 9, 'subsample': 0.6982519590709141, 'colsample_bytree': 0.7013471571985803, 'reg_alpha': 0.5289963901343195, 'reg_lambda': 0.676924227053605, 'min_child_samples': 52}. Best is trial 3 with value: 0.05603169204752214.\n"
          ]
        },
        {
          "name": "stderr",
          "output_type": "stream",
          "text": [
            "Best trial: 3. Best value: 0.0560317:  92%|█████████▎| 37/40 [38:47<04:32, 90.78s/it] "
          ]
        },
        {
          "name": "stdout",
          "output_type": "stream",
          "text": [
            "[I 2025-10-21 12:17:37,052] Trial 36 pruned. Trial was pruned at iteration 0.\n"
          ]
        },
        {
          "name": "stderr",
          "output_type": "stream",
          "text": [
            "Best trial: 3. Best value: 0.0560317:  95%|█████████▌| 38/40 [38:47<02:07, 63.62s/it]"
          ]
        },
        {
          "name": "stdout",
          "output_type": "stream",
          "text": [
            "[I 2025-10-21 12:17:37,289] Trial 37 pruned. Trial was pruned at iteration 0.\n"
          ]
        },
        {
          "name": "stderr",
          "output_type": "stream",
          "text": [
            "Best trial: 3. Best value: 0.0560317:  98%|█████████▊| 39/40 [38:48<00:44, 44.92s/it]"
          ]
        },
        {
          "name": "stdout",
          "output_type": "stream",
          "text": [
            "[I 2025-10-21 12:17:38,594] Trial 38 pruned. Trial was pruned at iteration 157.\n"
          ]
        },
        {
          "name": "stderr",
          "output_type": "stream",
          "text": [
            "Best trial: 3. Best value: 0.0560317: 100%|██████████| 40/40 [38:48<00:00, 58.22s/it]"
          ]
        },
        {
          "name": "stdout",
          "output_type": "stream",
          "text": [
            "[I 2025-10-21 12:17:38,819] Trial 39 pruned. Trial was pruned at iteration 0.\n",
            "Best RMSE: 0.05603169204752214\n",
            "Best Params: {'learning_rate': 0.021641505628742737, 'num_leaves': 186, 'max_depth': 10, 'subsample': 0.7246836163613158, 'colsample_bytree': 0.7496822900577432, 'reg_alpha': 0.6479738901840086, 'reg_lambda': 0.2456161223218749, 'min_child_samples': 24}\n"
          ]
        },
        {
          "name": "stderr",
          "output_type": "stream",
          "text": [
            "\n"
          ]
        }
      ],
      "source": [
        "def objective(trial):\n",
        "    params = {\n",
        "        \"n_estimators\": 8000,\n",
        "        \"learning_rate\": trial.suggest_float(\"learning_rate\", 0.005, 0.05, log=True),\n",
        "        \"num_leaves\": trial.suggest_int(\"num_leaves\", 50, 200),\n",
        "        \"max_depth\": trial.suggest_int(\"max_depth\", 4, 10),\n",
        "        \"subsample\": trial.suggest_float(\"subsample\", 0.6, 0.9),\n",
        "        \"colsample_bytree\": trial.suggest_float(\"colsample_bytree\", 0.6, 0.9),\n",
        "        \"reg_alpha\": trial.suggest_float(\"reg_alpha\", 0.0, 1.0),\n",
        "        \"reg_lambda\": trial.suggest_float(\"reg_lambda\", 0.0, 1.0),\n",
        "        \"min_child_samples\": trial.suggest_int(\"min_child_samples\", 20, 200),\n",
        "        \"random_state\": 42,\n",
        "        \"n_jobs\": -1,\n",
        "        \"verbosity\": -1\n",
        "    }\n",
        "\n",
        "    kf = KFold(n_splits=5, shuffle=True, random_state=42)\n",
        "    rmse_scores = []\n",
        "\n",
        "    for train_idx, val_idx in kf.split(X):\n",
        "        X_train, X_val = X.iloc[train_idx], X.iloc[val_idx]\n",
        "        y_train, y_val = y.iloc[train_idx], y.iloc[val_idx]\n",
        "\n",
        "        model = LGBMRegressor(**params)\n",
        "        model.fit(\n",
        "            X_train, y_train,\n",
        "            eval_set=[(X_val, y_val)],\n",
        "            eval_metric=\"rmse\",\n",
        "            callbacks=[optuna.integration.LightGBMPruningCallback(trial, \"rmse\")]\n",
        "        )\n",
        "        preds = model.predict(X_val)\n",
        "        mse = mean_squared_error(y_val, preds)\n",
        "        rmse = np.sqrt(mse)\n",
        "        rmse_scores.append(rmse)\n",
        "        \n",
        "    return np.mean(rmse_scores)\n",
        "\n",
        "study = optuna.create_study(direction=\"minimize\")\n",
        "study.optimize(objective, n_trials=40, show_progress_bar=True)\n",
        "\n",
        "print(\"Best RMSE:\", study.best_value)\n",
        "print(\"Best Params:\", study.best_params)\n",
        "\n",
        "best_params = study.best_params"
      ]
    },
    {
      "cell_type": "code",
      "execution_count": 10,
      "metadata": {},
      "outputs": [],
      "source": [
        "# Set up 5-Fold CV\n",
        "kf = KFold(n_splits=5, shuffle=True, random_state=42)\n",
        "rmse_scores = []\n",
        "test_X = test_cat.drop(columns=['id'])\n",
        "test_preds_all = np.zeros(len(test_X))"
      ]
    },
    {
      "cell_type": "code",
      "execution_count": 11,
      "metadata": {},
      "outputs": [
        {
          "name": "stdout",
          "output_type": "stream",
          "text": [
            "\n",
            "===== Fold 1 / 5 =====\n",
            "Training until validation scores don't improve for 200 rounds\n",
            "Early stopping, best iteration is:\n",
            "[647]\tvalid_0's rmse: 0.0561753\tvalid_0's l2: 0.00315566\n",
            "Fold 1 RMSE: 0.05617\n",
            "\n",
            "===== Fold 2 / 5 =====\n",
            "Training until validation scores don't improve for 200 rounds\n",
            "Early stopping, best iteration is:\n",
            "[749]\tvalid_0's rmse: 0.0560451\tvalid_0's l2: 0.00314106\n",
            "Fold 2 RMSE: 0.05603\n",
            "\n",
            "===== Fold 3 / 5 =====\n",
            "Training until validation scores don't improve for 200 rounds\n",
            "Early stopping, best iteration is:\n",
            "[730]\tvalid_0's rmse: 0.0560945\tvalid_0's l2: 0.00314659\n",
            "Fold 3 RMSE: 0.05608\n",
            "\n",
            "===== Fold 4 / 5 =====\n",
            "Training until validation scores don't improve for 200 rounds\n",
            "Early stopping, best iteration is:\n",
            "[542]\tvalid_0's rmse: 0.0559205\tvalid_0's l2: 0.0031271\n",
            "Fold 4 RMSE: 0.05592\n",
            "\n",
            "===== Fold 5 / 5 =====\n",
            "Training until validation scores don't improve for 200 rounds\n",
            "Early stopping, best iteration is:\n",
            "[678]\tvalid_0's rmse: 0.0558711\tvalid_0's l2: 0.00312158\n",
            "Fold 5 RMSE: 0.05586\n"
          ]
        }
      ],
      "source": [
        "# === Define models ===\n",
        "for fold, (train_idx, val_idx) in enumerate(kf.split(X)):\n",
        "    print(f\"\\n===== Fold {fold + 1} / {kf.n_splits} =====\")\n",
        "    X_train, X_val = X.iloc[train_idx], X.iloc[val_idx]\n",
        "    y_train, y_val = y.iloc[train_idx], y.iloc[val_idx]\n",
        "\n",
        "    # Align columns to avoid mismatch\n",
        "    X_val = X_val[X_train.columns]\n",
        "    test_X = test_X[X_train.columns]\n",
        "\n",
        "    # === LightGBM model (stable tuned version) ===\n",
        "    model_lgb = LGBMRegressor(\n",
        "        **study.best_params,\n",
        "        n_estimators=12000,\n",
        "        random_state=42,\n",
        "        n_jobs=-1,\n",
        "        verbosity=-1\n",
        "    )\n",
        "\n",
        "    # === XGBoost model (stable tuned version) ===\n",
        "    model_xgb = XGBRegressor(\n",
        "        n_estimators=10000,\n",
        "        learning_rate=0.018,\n",
        "        max_depth=7,\n",
        "        min_child_weight=3,\n",
        "        subsample=0.75,\n",
        "        colsample_bytree=0.75,\n",
        "        reg_alpha=0.3,\n",
        "        reg_lambda=0.8,\n",
        "        random_state=42,\n",
        "        tree_method='hist',\n",
        "        eval_metric='rmse',\n",
        "        objective='reg:squarederror',\n",
        "        early_stopping_rounds=300,\n",
        "        enable_categorical=True,\n",
        "        n_jobs=-1\n",
        "    )\n",
        "\n",
        "    # === Train models ===\n",
        "    model_lgb.fit(\n",
        "        X_train, y_train,\n",
        "        eval_set=[(X_val, y_val)],\n",
        "        eval_metric='rmse',\n",
        "        categorical_feature=cat_cols,\n",
        "        callbacks=[early_stopping(200), log_evaluation(0)]\n",
        "    )\n",
        "\n",
        "    model_xgb.fit(\n",
        "        X_train, y_train,\n",
        "        eval_set=[(X_val, y_val)],\n",
        "        verbose=False\n",
        "    )\n",
        "\n",
        "    # === Predict & blend ===\n",
        "    val_preds_lgb = model_lgb.predict(X_val)\n",
        "    val_preds_xgb = model_xgb.predict(X_val)\n",
        "    val_preds = 0.55 * val_preds_lgb + 0.45 * val_preds_xgb\n",
        "\n",
        "    rmse = np.sqrt(mean_squared_error(y_val, val_preds))\n",
        "    rmse_scores.append(rmse)\n",
        "    print(f\"Fold {fold + 1} RMSE: {rmse:.5f}\")\n",
        "\n",
        "    # === Predict on test and accumulate average ===\n",
        "    test_pred_lgb = model_lgb.predict(test_X)\n",
        "    test_pred_xgb = model_xgb.predict(test_X)\n",
        "    test_preds_all += 0.5 * (test_pred_lgb + test_pred_xgb) / kf.n_splits\n"
      ]
    },
    {
      "cell_type": "code",
      "execution_count": 12,
      "metadata": {},
      "outputs": [
        {
          "name": "stdout",
          "output_type": "stream",
          "text": [
            "\n",
            "============================\n",
            "✅ Average RMSE across folds: 0.05601\n",
            "============================\n"
          ]
        }
      ],
      "source": [
        "# Average RMSE\n",
        "avg_rmse = np.mean(rmse_scores)\n",
        "print(\"\\n============================\")\n",
        "print(f\"✅ Average RMSE across folds: {avg_rmse:.5f}\")\n",
        "print(\"============================\")"
      ]
    },
    {
      "cell_type": "code",
      "execution_count": 13,
      "metadata": {},
      "outputs": [
        {
          "name": "stdout",
          "output_type": "stream",
          "text": [
            "✅ submission_kfold.csv ready for Kaggle upload!\n"
          ]
        }
      ],
      "source": [
        "# Save final averaged predictions\n",
        "submission = pd.DataFrame({\n",
        "    'id': test_cat['id'],\n",
        "    'accident_risk': test_preds_all\n",
        "})\n",
        "submission.to_csv('submission_kfold.csv', index=False)\n",
        "print(\"✅ submission_kfold.csv ready for Kaggle upload!\")"
      ]
    }
  ],
  "metadata": {
    "colab": {
      "provenance": []
    },
    "kernelspec": {
      "display_name": "Python 3",
      "name": "python3"
    },
    "language_info": {
      "codemirror_mode": {
        "name": "ipython",
        "version": 3
      },
      "file_extension": ".py",
      "mimetype": "text/x-python",
      "name": "python",
      "nbconvert_exporter": "python",
      "pygments_lexer": "ipython3",
      "version": "3.13.9"
    }
  },
  "nbformat": 4,
  "nbformat_minor": 0
}
